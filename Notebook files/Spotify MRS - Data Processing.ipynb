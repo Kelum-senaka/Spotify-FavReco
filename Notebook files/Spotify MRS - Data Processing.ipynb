{
 "cells": [
  {
   "cell_type": "markdown",
   "id": "a29c56c7",
   "metadata": {},
   "source": [
    "# Spotify MRS - Data Processing "
   ]
  },
  {
   "cell_type": "markdown",
   "id": "045304ac",
   "metadata": {},
   "source": [
    "## 01.Loading and Combining Data "
   ]
  },
  {
   "cell_type": "code",
   "execution_count": 1,
   "id": "e4aaee32",
   "metadata": {},
   "outputs": [],
   "source": [
    "# Load the required libraries\n",
    "import pandas as pd\n",
    "import numpy as np\n",
    "import json\n",
    "import re\n",
    "import os\n",
    "import glob\n",
    "import math\n",
    "from tqdm import tqdm\n",
    "import spotipy\n",
    "from spotipy.oauth2 import SpotifyClientCredentials\n",
    "import seaborn as sn\n",
    "import matplotlib.pyplot as plt\n",
    "from sklearn.preprocessing import MinMaxScaler\n",
    "from sklearn.feature_extraction.text import TfidfVectorizer\n",
    "from textblob import TextBlob\n",
    "from statsmodels.stats.outliers_influence import variance_inflation_factor\n",
    "from sklearn.decomposition import PCA\n",
    "from sklearn.preprocessing import StandardScaler"
   ]
  },
  {
   "cell_type": "code",
   "execution_count": 2,
   "id": "d280419a",
   "metadata": {},
   "outputs": [
    {
     "data": {
      "text/html": [
       "<div>\n",
       "<style scoped>\n",
       "    .dataframe tbody tr th:only-of-type {\n",
       "        vertical-align: middle;\n",
       "    }\n",
       "\n",
       "    .dataframe tbody tr th {\n",
       "        vertical-align: top;\n",
       "    }\n",
       "\n",
       "    .dataframe thead th {\n",
       "        text-align: right;\n",
       "    }\n",
       "</style>\n",
       "<table border=\"1\" class=\"dataframe\">\n",
       "  <thead>\n",
       "    <tr style=\"text-align: right;\">\n",
       "      <th></th>\n",
       "      <th>pid</th>\n",
       "      <th>name</th>\n",
       "      <th>description</th>\n",
       "      <th>modified_at</th>\n",
       "      <th>num_artists</th>\n",
       "      <th>num_albums</th>\n",
       "      <th>num_tracks</th>\n",
       "      <th>num_followers</th>\n",
       "      <th>num_edits</th>\n",
       "      <th>playlist_duration_ms</th>\n",
       "      <th>collaborative</th>\n",
       "      <th>pos</th>\n",
       "      <th>artist_name</th>\n",
       "      <th>track_uri</th>\n",
       "      <th>artist_uri</th>\n",
       "      <th>track_name</th>\n",
       "      <th>album_uri</th>\n",
       "      <th>duration_ms</th>\n",
       "      <th>album_name</th>\n",
       "    </tr>\n",
       "  </thead>\n",
       "  <tbody>\n",
       "    <tr>\n",
       "      <th>0</th>\n",
       "      <td>0</td>\n",
       "      <td>Throwbacks</td>\n",
       "      <td>NaN</td>\n",
       "      <td>1493424000</td>\n",
       "      <td>37</td>\n",
       "      <td>47</td>\n",
       "      <td>52</td>\n",
       "      <td>1</td>\n",
       "      <td>6</td>\n",
       "      <td>11532414</td>\n",
       "      <td>false</td>\n",
       "      <td>0</td>\n",
       "      <td>Missy Elliott</td>\n",
       "      <td>spotify:track:0UaMYEvWZi0ZqiDOoHU3YI</td>\n",
       "      <td>spotify:artist:2wIVse2owClT7go1WT98tk</td>\n",
       "      <td>Lose Control (feat. Ciara &amp; Fat Man Scoop)</td>\n",
       "      <td>spotify:album:6vV5UrXcfyQD1wu4Qo2I9K</td>\n",
       "      <td>226863</td>\n",
       "      <td>The Cookbook</td>\n",
       "    </tr>\n",
       "    <tr>\n",
       "      <th>1</th>\n",
       "      <td>0</td>\n",
       "      <td>Throwbacks</td>\n",
       "      <td>NaN</td>\n",
       "      <td>1493424000</td>\n",
       "      <td>37</td>\n",
       "      <td>47</td>\n",
       "      <td>52</td>\n",
       "      <td>1</td>\n",
       "      <td>6</td>\n",
       "      <td>11532414</td>\n",
       "      <td>false</td>\n",
       "      <td>1</td>\n",
       "      <td>Britney Spears</td>\n",
       "      <td>spotify:track:6I9VzXrHxO9rA9A5euc8Ak</td>\n",
       "      <td>spotify:artist:26dSoYclwsYLMAKD3tpOr4</td>\n",
       "      <td>Toxic</td>\n",
       "      <td>spotify:album:0z7pVBGOD7HCIB7S8eLkLI</td>\n",
       "      <td>198800</td>\n",
       "      <td>In The Zone</td>\n",
       "    </tr>\n",
       "    <tr>\n",
       "      <th>2</th>\n",
       "      <td>0</td>\n",
       "      <td>Throwbacks</td>\n",
       "      <td>NaN</td>\n",
       "      <td>1493424000</td>\n",
       "      <td>37</td>\n",
       "      <td>47</td>\n",
       "      <td>52</td>\n",
       "      <td>1</td>\n",
       "      <td>6</td>\n",
       "      <td>11532414</td>\n",
       "      <td>false</td>\n",
       "      <td>2</td>\n",
       "      <td>Beyoncé</td>\n",
       "      <td>spotify:track:0WqIKmW4BTrj3eJFmnCKMv</td>\n",
       "      <td>spotify:artist:6vWDO969PvNqNYHIOW5v0m</td>\n",
       "      <td>Crazy In Love</td>\n",
       "      <td>spotify:album:25hVFAxTlDvXbx2X2QkUkE</td>\n",
       "      <td>235933</td>\n",
       "      <td>Dangerously In Love (Alben für die Ewigkeit)</td>\n",
       "    </tr>\n",
       "    <tr>\n",
       "      <th>3</th>\n",
       "      <td>0</td>\n",
       "      <td>Throwbacks</td>\n",
       "      <td>NaN</td>\n",
       "      <td>1493424000</td>\n",
       "      <td>37</td>\n",
       "      <td>47</td>\n",
       "      <td>52</td>\n",
       "      <td>1</td>\n",
       "      <td>6</td>\n",
       "      <td>11532414</td>\n",
       "      <td>false</td>\n",
       "      <td>3</td>\n",
       "      <td>Justin Timberlake</td>\n",
       "      <td>spotify:track:1AWQoqb9bSvzTjaLralEkT</td>\n",
       "      <td>spotify:artist:31TPClRtHm23RisEBtV3X7</td>\n",
       "      <td>Rock Your Body</td>\n",
       "      <td>spotify:album:6QPkyl04rXwTGlGlcYaRoW</td>\n",
       "      <td>267266</td>\n",
       "      <td>Justified</td>\n",
       "    </tr>\n",
       "    <tr>\n",
       "      <th>4</th>\n",
       "      <td>0</td>\n",
       "      <td>Throwbacks</td>\n",
       "      <td>NaN</td>\n",
       "      <td>1493424000</td>\n",
       "      <td>37</td>\n",
       "      <td>47</td>\n",
       "      <td>52</td>\n",
       "      <td>1</td>\n",
       "      <td>6</td>\n",
       "      <td>11532414</td>\n",
       "      <td>false</td>\n",
       "      <td>4</td>\n",
       "      <td>Shaggy</td>\n",
       "      <td>spotify:track:1lzr43nnXAijIGYnCT8M8H</td>\n",
       "      <td>spotify:artist:5EvFsr3kj42KNv97ZEnqij</td>\n",
       "      <td>It Wasn't Me</td>\n",
       "      <td>spotify:album:6NmFmPX56pcLBOFMhIiKvF</td>\n",
       "      <td>227600</td>\n",
       "      <td>Hot Shot</td>\n",
       "    </tr>\n",
       "    <tr>\n",
       "      <th>...</th>\n",
       "      <td>...</td>\n",
       "      <td>...</td>\n",
       "      <td>...</td>\n",
       "      <td>...</td>\n",
       "      <td>...</td>\n",
       "      <td>...</td>\n",
       "      <td>...</td>\n",
       "      <td>...</td>\n",
       "      <td>...</td>\n",
       "      <td>...</td>\n",
       "      <td>...</td>\n",
       "      <td>...</td>\n",
       "      <td>...</td>\n",
       "      <td>...</td>\n",
       "      <td>...</td>\n",
       "      <td>...</td>\n",
       "      <td>...</td>\n",
       "      <td>...</td>\n",
       "      <td>...</td>\n",
       "    </tr>\n",
       "    <tr>\n",
       "      <th>266381</th>\n",
       "      <td>3999</td>\n",
       "      <td>other</td>\n",
       "      <td>NaN</td>\n",
       "      <td>1420848000</td>\n",
       "      <td>17</td>\n",
       "      <td>56</td>\n",
       "      <td>97</td>\n",
       "      <td>1</td>\n",
       "      <td>9</td>\n",
       "      <td>22548683</td>\n",
       "      <td>false</td>\n",
       "      <td>92</td>\n",
       "      <td>Alanis Morissette</td>\n",
       "      <td>spotify:track:7c1iI6dwdCpHGYT8DGEfab</td>\n",
       "      <td>spotify:artist:6ogn9necmbUdCppmNnGOdi</td>\n",
       "      <td>Uninvited</td>\n",
       "      <td>spotify:album:4N7LuZYpstQrtcHIoOKzqg</td>\n",
       "      <td>276200</td>\n",
       "      <td>The Collection</td>\n",
       "    </tr>\n",
       "    <tr>\n",
       "      <th>266382</th>\n",
       "      <td>3999</td>\n",
       "      <td>other</td>\n",
       "      <td>NaN</td>\n",
       "      <td>1420848000</td>\n",
       "      <td>17</td>\n",
       "      <td>56</td>\n",
       "      <td>97</td>\n",
       "      <td>1</td>\n",
       "      <td>9</td>\n",
       "      <td>22548683</td>\n",
       "      <td>false</td>\n",
       "      <td>93</td>\n",
       "      <td>Alanis Morissette</td>\n",
       "      <td>spotify:track:4l7YIni9bAiGwWMqK5wvgV</td>\n",
       "      <td>spotify:artist:6ogn9necmbUdCppmNnGOdi</td>\n",
       "      <td>You Learn - 2015 Remastered</td>\n",
       "      <td>spotify:album:5Ap3F8CxjjsQKZGASDcHNA</td>\n",
       "      <td>239640</td>\n",
       "      <td>Jagged Little Pill (Remastered)</td>\n",
       "    </tr>\n",
       "    <tr>\n",
       "      <th>266383</th>\n",
       "      <td>3999</td>\n",
       "      <td>other</td>\n",
       "      <td>NaN</td>\n",
       "      <td>1420848000</td>\n",
       "      <td>17</td>\n",
       "      <td>56</td>\n",
       "      <td>97</td>\n",
       "      <td>1</td>\n",
       "      <td>9</td>\n",
       "      <td>22548683</td>\n",
       "      <td>false</td>\n",
       "      <td>94</td>\n",
       "      <td>Alanis Morissette</td>\n",
       "      <td>spotify:track:2LVxvGhl2U5p2ql2ujc6vZ</td>\n",
       "      <td>spotify:artist:6ogn9necmbUdCppmNnGOdi</td>\n",
       "      <td>Hands Clean</td>\n",
       "      <td>spotify:album:0kKfmdca8GY7bDWFWtY801</td>\n",
       "      <td>269400</td>\n",
       "      <td>Under Rug Swept</td>\n",
       "    </tr>\n",
       "    <tr>\n",
       "      <th>266384</th>\n",
       "      <td>3999</td>\n",
       "      <td>other</td>\n",
       "      <td>NaN</td>\n",
       "      <td>1420848000</td>\n",
       "      <td>17</td>\n",
       "      <td>56</td>\n",
       "      <td>97</td>\n",
       "      <td>1</td>\n",
       "      <td>9</td>\n",
       "      <td>22548683</td>\n",
       "      <td>false</td>\n",
       "      <td>95</td>\n",
       "      <td>Andrew McMahon in the Wilderness</td>\n",
       "      <td>spotify:track:2Kgjd9G808FhUDRhS2gidG</td>\n",
       "      <td>spotify:artist:716ZwtZBmwROBXcFmCzfdM</td>\n",
       "      <td>Cecilia And The Satellite</td>\n",
       "      <td>spotify:album:1FtH1WWaGL1OvhTMAMw5XI</td>\n",
       "      <td>223879</td>\n",
       "      <td>Andrew McMahon In The Wilderness</td>\n",
       "    </tr>\n",
       "    <tr>\n",
       "      <th>266385</th>\n",
       "      <td>3999</td>\n",
       "      <td>other</td>\n",
       "      <td>NaN</td>\n",
       "      <td>1420848000</td>\n",
       "      <td>17</td>\n",
       "      <td>56</td>\n",
       "      <td>97</td>\n",
       "      <td>1</td>\n",
       "      <td>9</td>\n",
       "      <td>22548683</td>\n",
       "      <td>false</td>\n",
       "      <td>96</td>\n",
       "      <td>Michelle Branch</td>\n",
       "      <td>spotify:track:1u0l8zWpQeMYStFkc2mLD7</td>\n",
       "      <td>spotify:artist:5rScKX1Sh1U67meeUyTGwk</td>\n",
       "      <td>Everywhere</td>\n",
       "      <td>spotify:album:1agL7TUoZXr0Xd4Irievqi</td>\n",
       "      <td>214826</td>\n",
       "      <td>The Spirit Room</td>\n",
       "    </tr>\n",
       "  </tbody>\n",
       "</table>\n",
       "<p>266386 rows × 19 columns</p>\n",
       "</div>"
      ],
      "text/plain": [
       "         pid        name description modified_at num_artists num_albums  \\\n",
       "0          0  Throwbacks         NaN  1493424000          37         47   \n",
       "1          0  Throwbacks         NaN  1493424000          37         47   \n",
       "2          0  Throwbacks         NaN  1493424000          37         47   \n",
       "3          0  Throwbacks         NaN  1493424000          37         47   \n",
       "4          0  Throwbacks         NaN  1493424000          37         47   \n",
       "...      ...         ...         ...         ...         ...        ...   \n",
       "266381  3999       other         NaN  1420848000          17         56   \n",
       "266382  3999       other         NaN  1420848000          17         56   \n",
       "266383  3999       other         NaN  1420848000          17         56   \n",
       "266384  3999       other         NaN  1420848000          17         56   \n",
       "266385  3999       other         NaN  1420848000          17         56   \n",
       "\n",
       "       num_tracks num_followers num_edits playlist_duration_ms collaborative  \\\n",
       "0              52             1         6             11532414         false   \n",
       "1              52             1         6             11532414         false   \n",
       "2              52             1         6             11532414         false   \n",
       "3              52             1         6             11532414         false   \n",
       "4              52             1         6             11532414         false   \n",
       "...           ...           ...       ...                  ...           ...   \n",
       "266381         97             1         9             22548683         false   \n",
       "266382         97             1         9             22548683         false   \n",
       "266383         97             1         9             22548683         false   \n",
       "266384         97             1         9             22548683         false   \n",
       "266385         97             1         9             22548683         false   \n",
       "\n",
       "        pos                       artist_name  \\\n",
       "0         0                     Missy Elliott   \n",
       "1         1                    Britney Spears   \n",
       "2         2                           Beyoncé   \n",
       "3         3                 Justin Timberlake   \n",
       "4         4                            Shaggy   \n",
       "...     ...                               ...   \n",
       "266381   92                 Alanis Morissette   \n",
       "266382   93                 Alanis Morissette   \n",
       "266383   94                 Alanis Morissette   \n",
       "266384   95  Andrew McMahon in the Wilderness   \n",
       "266385   96                   Michelle Branch   \n",
       "\n",
       "                                   track_uri  \\\n",
       "0       spotify:track:0UaMYEvWZi0ZqiDOoHU3YI   \n",
       "1       spotify:track:6I9VzXrHxO9rA9A5euc8Ak   \n",
       "2       spotify:track:0WqIKmW4BTrj3eJFmnCKMv   \n",
       "3       spotify:track:1AWQoqb9bSvzTjaLralEkT   \n",
       "4       spotify:track:1lzr43nnXAijIGYnCT8M8H   \n",
       "...                                      ...   \n",
       "266381  spotify:track:7c1iI6dwdCpHGYT8DGEfab   \n",
       "266382  spotify:track:4l7YIni9bAiGwWMqK5wvgV   \n",
       "266383  spotify:track:2LVxvGhl2U5p2ql2ujc6vZ   \n",
       "266384  spotify:track:2Kgjd9G808FhUDRhS2gidG   \n",
       "266385  spotify:track:1u0l8zWpQeMYStFkc2mLD7   \n",
       "\n",
       "                                   artist_uri  \\\n",
       "0       spotify:artist:2wIVse2owClT7go1WT98tk   \n",
       "1       spotify:artist:26dSoYclwsYLMAKD3tpOr4   \n",
       "2       spotify:artist:6vWDO969PvNqNYHIOW5v0m   \n",
       "3       spotify:artist:31TPClRtHm23RisEBtV3X7   \n",
       "4       spotify:artist:5EvFsr3kj42KNv97ZEnqij   \n",
       "...                                       ...   \n",
       "266381  spotify:artist:6ogn9necmbUdCppmNnGOdi   \n",
       "266382  spotify:artist:6ogn9necmbUdCppmNnGOdi   \n",
       "266383  spotify:artist:6ogn9necmbUdCppmNnGOdi   \n",
       "266384  spotify:artist:716ZwtZBmwROBXcFmCzfdM   \n",
       "266385  spotify:artist:5rScKX1Sh1U67meeUyTGwk   \n",
       "\n",
       "                                        track_name  \\\n",
       "0       Lose Control (feat. Ciara & Fat Man Scoop)   \n",
       "1                                            Toxic   \n",
       "2                                    Crazy In Love   \n",
       "3                                   Rock Your Body   \n",
       "4                                     It Wasn't Me   \n",
       "...                                            ...   \n",
       "266381                                   Uninvited   \n",
       "266382                 You Learn - 2015 Remastered   \n",
       "266383                                 Hands Clean   \n",
       "266384                   Cecilia And The Satellite   \n",
       "266385                                  Everywhere   \n",
       "\n",
       "                                   album_uri  duration_ms  \\\n",
       "0       spotify:album:6vV5UrXcfyQD1wu4Qo2I9K       226863   \n",
       "1       spotify:album:0z7pVBGOD7HCIB7S8eLkLI       198800   \n",
       "2       spotify:album:25hVFAxTlDvXbx2X2QkUkE       235933   \n",
       "3       spotify:album:6QPkyl04rXwTGlGlcYaRoW       267266   \n",
       "4       spotify:album:6NmFmPX56pcLBOFMhIiKvF       227600   \n",
       "...                                      ...          ...   \n",
       "266381  spotify:album:4N7LuZYpstQrtcHIoOKzqg       276200   \n",
       "266382  spotify:album:5Ap3F8CxjjsQKZGASDcHNA       239640   \n",
       "266383  spotify:album:0kKfmdca8GY7bDWFWtY801       269400   \n",
       "266384  spotify:album:1FtH1WWaGL1OvhTMAMw5XI       223879   \n",
       "266385  spotify:album:1agL7TUoZXr0Xd4Irievqi       214826   \n",
       "\n",
       "                                          album_name  \n",
       "0                                       The Cookbook  \n",
       "1                                        In The Zone  \n",
       "2       Dangerously In Love (Alben für die Ewigkeit)  \n",
       "3                                          Justified  \n",
       "4                                           Hot Shot  \n",
       "...                                              ...  \n",
       "266381                                The Collection  \n",
       "266382               Jagged Little Pill (Remastered)  \n",
       "266383                               Under Rug Swept  \n",
       "266384              Andrew McMahon In The Wilderness  \n",
       "266385                               The Spirit Room  \n",
       "\n",
       "[266386 rows x 19 columns]"
      ]
     },
     "execution_count": 2,
     "metadata": {},
     "output_type": "execute_result"
    }
   ],
   "source": [
    "DATASETS_PATH = 'E:/Internship/Data Analyst-Technocolabs/Data'\n",
    "\n",
    "FIELDS = ['pid', 'name', 'description', 'modified_at', 'num_artists',\n",
    "         'num_albums', 'num_tracks', 'num_followers', 'num_edits',\n",
    "         'duration_ms', 'collaborative']\n",
    "\n",
    "# Concatenate all json files into a single dataframe and flaten the json object tracks in the original dataset.\n",
    "for i, dataset in enumerate(glob.glob(DATASETS_PATH+'/*.json')):\n",
    "\n",
    "    data = json.load(open(dataset))\n",
    "    \n",
    "    df_ = pd.json_normalize(data['playlists'], 'tracks', FIELDS, record_prefix= 'track_', errors='ignore')\n",
    "        \n",
    "    if i == 0:\n",
    "        df = df_.copy()\n",
    "    else:\n",
    "        df = pd.concat([df, df_], axis=0, ignore_index=True)\n",
    "        \n",
    "TRACKS_FIELDS = ['track_pos', 'track_artist_name', 'track_track_uri',\n",
    "                'track_artist_uri', 'track_track_name', 'track_album_uri',\n",
    "                'track_duration_ms', 'track_album_name']\n",
    "\n",
    "df = df.reindex(columns = FIELDS+TRACKS_FIELDS)\n",
    "\n",
    "df.rename(columns={'duration_ms': 'playlist_duration_ms'}, inplace=True)\n",
    "\n",
    "for column in df.columns:\n",
    "    if column in TRACKS_FIELDS:\n",
    "        df.rename(columns={column : column.split('_', maxsplit=1)[1]}, inplace=True)\n",
    "\n",
    "df.to_csv(os.path.join(DATASETS_PATH, 'raw_data.csv'), index=False)\n",
    "df"
   ]
  },
  {
   "cell_type": "markdown",
   "id": "d37e92ec",
   "metadata": {},
   "source": [
    "## 02. Feature Extraction through Spotipy API"
   ]
  },
  {
   "cell_type": "code",
   "execution_count": 3,
   "id": "71160c50",
   "metadata": {},
   "outputs": [],
   "source": [
    "# Create the function to extract the features from track URI\n",
    "def uri_to_features(uri):\n",
    "\n",
    "    client_credentials_manager = SpotifyClientCredentials(client_id='fc0dec7eec794907a5a51813eee49655',   \n",
    "                                                      client_secret='fc8c4306ffdb4e42944bf0706c67a2d0') \n",
    "    sp = spotipy.Spotify(client_credentials_manager=client_credentials_manager)\n",
    "    \n",
    "    # Extract audio features\n",
    "    features = sp.audio_features(uri)[0]\n",
    "    \n",
    "    # Extract artists features \n",
    "    artist = sp.track(uri)[\"artists\"][0][\"id\"]\n",
    "    artist_pop = sp.artist(artist)[\"popularity\"]\n",
    "    artist_genres = sp.artist(artist)[\"genres\"]\n",
    "    \n",
    "    # Extract track features\n",
    "    track_pop = sp.track(uri)[\"popularity\"]\n",
    "    \n",
    "    # Add artists and track features into the audio features\n",
    "    features[\"artist_pop\"] = artist_pop\n",
    "    if artist_genres:\n",
    "        features[\"genres\"] = \" \".join([re.sub(' ','_',i) for i in artist_genres])\n",
    "    else:\n",
    "        features[\"genres\"] = \"unknown\"\n",
    "    features[\"track_pop\"] = track_pop\n",
    "    \n",
    "    return features"
   ]
  },
  {
   "cell_type": "code",
   "execution_count": 4,
   "id": "c3de0080",
   "metadata": {},
   "outputs": [
    {
     "data": {
      "text/plain": [
       "0         0UaMYEvWZi0ZqiDOoHU3YI\n",
       "1         6I9VzXrHxO9rA9A5euc8Ak\n",
       "2         0WqIKmW4BTrj3eJFmnCKMv\n",
       "3         1AWQoqb9bSvzTjaLralEkT\n",
       "4         1lzr43nnXAijIGYnCT8M8H\n",
       "                   ...          \n",
       "266381    7c1iI6dwdCpHGYT8DGEfab\n",
       "266382    4l7YIni9bAiGwWMqK5wvgV\n",
       "266383    2LVxvGhl2U5p2ql2ujc6vZ\n",
       "266384    2Kgjd9G808FhUDRhS2gidG\n",
       "266385    1u0l8zWpQeMYStFkc2mLD7\n",
       "Name: track_uri, Length: 266386, dtype: object"
      ]
     },
     "execution_count": 4,
     "metadata": {},
     "output_type": "execute_result"
    }
   ],
   "source": [
    "# Extract only track URI from track_uri column\n",
    "df[\"track_uri\"] = df[\"track_uri\"].apply(lambda x: re.findall(r'\\w+$', x)[0])\n",
    "df[\"track_uri\"]"
   ]
  },
  {
   "cell_type": "code",
   "execution_count": 5,
   "id": "09ee257d",
   "metadata": {},
   "outputs": [
    {
     "data": {
      "text/plain": [
       "93139"
      ]
     },
     "execution_count": 5,
     "metadata": {},
     "output_type": "execute_result"
    }
   ],
   "source": [
    "all_uri = df.track_uri.unique().tolist()\n",
    "df.track_uri.nunique()"
   ]
  },
  {
   "cell_type": "code",
   "execution_count": 6,
   "id": "0db9e85b",
   "metadata": {},
   "outputs": [],
   "source": [
    "p1, p2, p3, p4, p5 = all_uri[:2000], all_uri[2000:40000], all_uri[40000:60000], all_uri[60000:80000], all_uri[80000:]\n",
    "api_features = []"
   ]
  },
  {
   "cell_type": "code",
   "execution_count": 8,
   "id": "b93bf3ce",
   "metadata": {},
   "outputs": [
    {
     "name": "stderr",
     "output_type": "stream",
     "text": [
      "100%|██████████████████████████████████████████████████████████████████████████████| 2000/2000 [46:42<00:00,  1.40s/it]\n"
     ]
    }
   ],
   "source": [
    "# Extract the features using function\n",
    "for i in tqdm(p1):\n",
    "    try:\n",
    "        api_features.append(uri_to_features(i))\n",
    "    except:\n",
    "        continue"
   ]
  },
  {
   "cell_type": "code",
   "execution_count": null,
   "id": "3fbdf2d1",
   "metadata": {},
   "outputs": [],
   "source": [
    "for i in tqdm(p2):\n",
    "    try:\n",
    "        api_features.append(uri_to_features(i))\n",
    "    except:\n",
    "        continue"
   ]
  },
  {
   "cell_type": "code",
   "execution_count": null,
   "id": "961893c8",
   "metadata": {},
   "outputs": [],
   "source": [
    "for i in tqdm(p3):\n",
    "    try:\n",
    "        api_features.append(uri_to_features(i))\n",
    "    except:\n",
    "        continue"
   ]
  },
  {
   "cell_type": "code",
   "execution_count": null,
   "id": "aedab904",
   "metadata": {},
   "outputs": [],
   "source": [
    "for i in tqdm(p4):\n",
    "    try:\n",
    "        api_features.append(uri_to_features(i))\n",
    "    except:\n",
    "        continue"
   ]
  },
  {
   "cell_type": "code",
   "execution_count": null,
   "id": "0ef479e3",
   "metadata": {},
   "outputs": [],
   "source": [
    "for i in tqdm(p5):\n",
    "    try:\n",
    "        api_features.append(uri_to_features(i))\n",
    "    except:\n",
    "        continue"
   ]
  },
  {
   "cell_type": "markdown",
   "id": "37cec789",
   "metadata": {},
   "source": [
    "I have extracted features using only one list.Because it will take more time to extract features"
   ]
  },
  {
   "cell_type": "code",
   "execution_count": 10,
   "id": "b63661fd",
   "metadata": {},
   "outputs": [
    {
     "data": {
      "text/html": [
       "<div>\n",
       "<style scoped>\n",
       "    .dataframe tbody tr th:only-of-type {\n",
       "        vertical-align: middle;\n",
       "    }\n",
       "\n",
       "    .dataframe tbody tr th {\n",
       "        vertical-align: top;\n",
       "    }\n",
       "\n",
       "    .dataframe thead th {\n",
       "        text-align: right;\n",
       "    }\n",
       "</style>\n",
       "<table border=\"1\" class=\"dataframe\">\n",
       "  <thead>\n",
       "    <tr style=\"text-align: right;\">\n",
       "      <th></th>\n",
       "      <th>danceability</th>\n",
       "      <th>energy</th>\n",
       "      <th>key</th>\n",
       "      <th>loudness</th>\n",
       "      <th>mode</th>\n",
       "      <th>speechiness</th>\n",
       "      <th>acousticness</th>\n",
       "      <th>instrumentalness</th>\n",
       "      <th>liveness</th>\n",
       "      <th>valence</th>\n",
       "      <th>...</th>\n",
       "      <th>type</th>\n",
       "      <th>id</th>\n",
       "      <th>uri</th>\n",
       "      <th>track_href</th>\n",
       "      <th>analysis_url</th>\n",
       "      <th>duration_ms</th>\n",
       "      <th>time_signature</th>\n",
       "      <th>artist_pop</th>\n",
       "      <th>genres</th>\n",
       "      <th>track_pop</th>\n",
       "    </tr>\n",
       "  </thead>\n",
       "  <tbody>\n",
       "    <tr>\n",
       "      <th>0</th>\n",
       "      <td>0.904</td>\n",
       "      <td>0.813</td>\n",
       "      <td>4</td>\n",
       "      <td>-7.105</td>\n",
       "      <td>0</td>\n",
       "      <td>0.1210</td>\n",
       "      <td>0.03110</td>\n",
       "      <td>0.006970</td>\n",
       "      <td>0.0471</td>\n",
       "      <td>0.810</td>\n",
       "      <td>...</td>\n",
       "      <td>audio_features</td>\n",
       "      <td>0UaMYEvWZi0ZqiDOoHU3YI</td>\n",
       "      <td>spotify:track:0UaMYEvWZi0ZqiDOoHU3YI</td>\n",
       "      <td>https://api.spotify.com/v1/tracks/0UaMYEvWZi0Z...</td>\n",
       "      <td>https://api.spotify.com/v1/audio-analysis/0UaM...</td>\n",
       "      <td>226864</td>\n",
       "      <td>4</td>\n",
       "      <td>70</td>\n",
       "      <td>dance_pop hip_hop hip_pop pop_rap r&amp;b rap urba...</td>\n",
       "      <td>67</td>\n",
       "    </tr>\n",
       "    <tr>\n",
       "      <th>1</th>\n",
       "      <td>0.774</td>\n",
       "      <td>0.838</td>\n",
       "      <td>5</td>\n",
       "      <td>-3.914</td>\n",
       "      <td>0</td>\n",
       "      <td>0.1140</td>\n",
       "      <td>0.02490</td>\n",
       "      <td>0.025000</td>\n",
       "      <td>0.2420</td>\n",
       "      <td>0.924</td>\n",
       "      <td>...</td>\n",
       "      <td>audio_features</td>\n",
       "      <td>6I9VzXrHxO9rA9A5euc8Ak</td>\n",
       "      <td>spotify:track:6I9VzXrHxO9rA9A5euc8Ak</td>\n",
       "      <td>https://api.spotify.com/v1/tracks/6I9VzXrHxO9r...</td>\n",
       "      <td>https://api.spotify.com/v1/audio-analysis/6I9V...</td>\n",
       "      <td>198800</td>\n",
       "      <td>4</td>\n",
       "      <td>81</td>\n",
       "      <td>dance_pop pop</td>\n",
       "      <td>81</td>\n",
       "    </tr>\n",
       "    <tr>\n",
       "      <th>2</th>\n",
       "      <td>0.664</td>\n",
       "      <td>0.758</td>\n",
       "      <td>2</td>\n",
       "      <td>-6.583</td>\n",
       "      <td>0</td>\n",
       "      <td>0.2100</td>\n",
       "      <td>0.00238</td>\n",
       "      <td>0.000000</td>\n",
       "      <td>0.0598</td>\n",
       "      <td>0.701</td>\n",
       "      <td>...</td>\n",
       "      <td>audio_features</td>\n",
       "      <td>0WqIKmW4BTrj3eJFmnCKMv</td>\n",
       "      <td>spotify:track:0WqIKmW4BTrj3eJFmnCKMv</td>\n",
       "      <td>https://api.spotify.com/v1/tracks/0WqIKmW4BTrj...</td>\n",
       "      <td>https://api.spotify.com/v1/audio-analysis/0WqI...</td>\n",
       "      <td>235933</td>\n",
       "      <td>4</td>\n",
       "      <td>88</td>\n",
       "      <td>dance_pop pop r&amp;b</td>\n",
       "      <td>21</td>\n",
       "    </tr>\n",
       "    <tr>\n",
       "      <th>3</th>\n",
       "      <td>0.892</td>\n",
       "      <td>0.714</td>\n",
       "      <td>4</td>\n",
       "      <td>-6.055</td>\n",
       "      <td>0</td>\n",
       "      <td>0.1410</td>\n",
       "      <td>0.20100</td>\n",
       "      <td>0.000234</td>\n",
       "      <td>0.0521</td>\n",
       "      <td>0.817</td>\n",
       "      <td>...</td>\n",
       "      <td>audio_features</td>\n",
       "      <td>1AWQoqb9bSvzTjaLralEkT</td>\n",
       "      <td>spotify:track:1AWQoqb9bSvzTjaLralEkT</td>\n",
       "      <td>https://api.spotify.com/v1/tracks/1AWQoqb9bSvz...</td>\n",
       "      <td>https://api.spotify.com/v1/audio-analysis/1AWQ...</td>\n",
       "      <td>267267</td>\n",
       "      <td>4</td>\n",
       "      <td>80</td>\n",
       "      <td>dance_pop pop</td>\n",
       "      <td>76</td>\n",
       "    </tr>\n",
       "    <tr>\n",
       "      <th>4</th>\n",
       "      <td>0.853</td>\n",
       "      <td>0.606</td>\n",
       "      <td>0</td>\n",
       "      <td>-4.596</td>\n",
       "      <td>1</td>\n",
       "      <td>0.0713</td>\n",
       "      <td>0.05610</td>\n",
       "      <td>0.000000</td>\n",
       "      <td>0.3130</td>\n",
       "      <td>0.654</td>\n",
       "      <td>...</td>\n",
       "      <td>audio_features</td>\n",
       "      <td>1lzr43nnXAijIGYnCT8M8H</td>\n",
       "      <td>spotify:track:1lzr43nnXAijIGYnCT8M8H</td>\n",
       "      <td>https://api.spotify.com/v1/tracks/1lzr43nnXAij...</td>\n",
       "      <td>https://api.spotify.com/v1/audio-analysis/1lzr...</td>\n",
       "      <td>227600</td>\n",
       "      <td>4</td>\n",
       "      <td>72</td>\n",
       "      <td>dance_pop pop_rap reggae_fusion</td>\n",
       "      <td>0</td>\n",
       "    </tr>\n",
       "  </tbody>\n",
       "</table>\n",
       "<p>5 rows × 21 columns</p>\n",
       "</div>"
      ],
      "text/plain": [
       "   danceability  energy  key  loudness  mode  speechiness  acousticness  \\\n",
       "0         0.904   0.813    4    -7.105     0       0.1210       0.03110   \n",
       "1         0.774   0.838    5    -3.914     0       0.1140       0.02490   \n",
       "2         0.664   0.758    2    -6.583     0       0.2100       0.00238   \n",
       "3         0.892   0.714    4    -6.055     0       0.1410       0.20100   \n",
       "4         0.853   0.606    0    -4.596     1       0.0713       0.05610   \n",
       "\n",
       "   instrumentalness  liveness  valence  ...            type  \\\n",
       "0          0.006970    0.0471    0.810  ...  audio_features   \n",
       "1          0.025000    0.2420    0.924  ...  audio_features   \n",
       "2          0.000000    0.0598    0.701  ...  audio_features   \n",
       "3          0.000234    0.0521    0.817  ...  audio_features   \n",
       "4          0.000000    0.3130    0.654  ...  audio_features   \n",
       "\n",
       "                       id                                   uri  \\\n",
       "0  0UaMYEvWZi0ZqiDOoHU3YI  spotify:track:0UaMYEvWZi0ZqiDOoHU3YI   \n",
       "1  6I9VzXrHxO9rA9A5euc8Ak  spotify:track:6I9VzXrHxO9rA9A5euc8Ak   \n",
       "2  0WqIKmW4BTrj3eJFmnCKMv  spotify:track:0WqIKmW4BTrj3eJFmnCKMv   \n",
       "3  1AWQoqb9bSvzTjaLralEkT  spotify:track:1AWQoqb9bSvzTjaLralEkT   \n",
       "4  1lzr43nnXAijIGYnCT8M8H  spotify:track:1lzr43nnXAijIGYnCT8M8H   \n",
       "\n",
       "                                          track_href  \\\n",
       "0  https://api.spotify.com/v1/tracks/0UaMYEvWZi0Z...   \n",
       "1  https://api.spotify.com/v1/tracks/6I9VzXrHxO9r...   \n",
       "2  https://api.spotify.com/v1/tracks/0WqIKmW4BTrj...   \n",
       "3  https://api.spotify.com/v1/tracks/1AWQoqb9bSvz...   \n",
       "4  https://api.spotify.com/v1/tracks/1lzr43nnXAij...   \n",
       "\n",
       "                                        analysis_url duration_ms  \\\n",
       "0  https://api.spotify.com/v1/audio-analysis/0UaM...      226864   \n",
       "1  https://api.spotify.com/v1/audio-analysis/6I9V...      198800   \n",
       "2  https://api.spotify.com/v1/audio-analysis/0WqI...      235933   \n",
       "3  https://api.spotify.com/v1/audio-analysis/1AWQ...      267267   \n",
       "4  https://api.spotify.com/v1/audio-analysis/1lzr...      227600   \n",
       "\n",
       "   time_signature  artist_pop  \\\n",
       "0               4          70   \n",
       "1               4          81   \n",
       "2               4          88   \n",
       "3               4          80   \n",
       "4               4          72   \n",
       "\n",
       "                                              genres track_pop  \n",
       "0  dance_pop hip_hop hip_pop pop_rap r&b rap urba...        67  \n",
       "1                                      dance_pop pop        81  \n",
       "2                                  dance_pop pop r&b        21  \n",
       "3                                      dance_pop pop        76  \n",
       "4                    dance_pop pop_rap reggae_fusion         0  \n",
       "\n",
       "[5 rows x 21 columns]"
      ]
     },
     "execution_count": 10,
     "metadata": {},
     "output_type": "execute_result"
    }
   ],
   "source": [
    "# Make data frame for features\n",
    "features_data = pd.DataFrame(api_features)\n",
    "features_data.head()"
   ]
  },
  {
   "cell_type": "code",
   "execution_count": 84,
   "id": "7cf9a2fd",
   "metadata": {},
   "outputs": [
    {
     "name": "stdout",
     "output_type": "stream",
     "text": [
      "Index(['pid', 'name', 'description', 'modified_at', 'num_artists',\n",
      "       'num_albums', 'num_tracks', 'num_followers', 'num_edits',\n",
      "       'playlist_duration_ms', 'collaborative', 'pos', 'artist_name',\n",
      "       'track_uri', 'artist_uri', 'track_name', 'album_uri', 'duration_ms_x',\n",
      "       'album_name', 'danceability', 'energy', 'key', 'loudness', 'mode',\n",
      "       'speechiness', 'acousticness', 'instrumentalness', 'liveness',\n",
      "       'valence', 'tempo', 'type', 'id', 'uri', 'track_href', 'analysis_url',\n",
      "       'duration_ms_y', 'time_signature', 'artist_pop', 'genres', 'track_pop'],\n",
      "      dtype='object')\n"
     ]
    },
    {
     "data": {
      "text/html": [
       "<div>\n",
       "<style scoped>\n",
       "    .dataframe tbody tr th:only-of-type {\n",
       "        vertical-align: middle;\n",
       "    }\n",
       "\n",
       "    .dataframe tbody tr th {\n",
       "        vertical-align: top;\n",
       "    }\n",
       "\n",
       "    .dataframe thead th {\n",
       "        text-align: right;\n",
       "    }\n",
       "</style>\n",
       "<table border=\"1\" class=\"dataframe\">\n",
       "  <thead>\n",
       "    <tr style=\"text-align: right;\">\n",
       "      <th></th>\n",
       "      <th>pid</th>\n",
       "      <th>name</th>\n",
       "      <th>description</th>\n",
       "      <th>modified_at</th>\n",
       "      <th>num_artists</th>\n",
       "      <th>num_albums</th>\n",
       "      <th>num_tracks</th>\n",
       "      <th>num_followers</th>\n",
       "      <th>num_edits</th>\n",
       "      <th>playlist_duration_ms</th>\n",
       "      <th>...</th>\n",
       "      <th>type</th>\n",
       "      <th>id</th>\n",
       "      <th>uri</th>\n",
       "      <th>track_href</th>\n",
       "      <th>analysis_url</th>\n",
       "      <th>duration_ms_y</th>\n",
       "      <th>time_signature</th>\n",
       "      <th>artist_pop</th>\n",
       "      <th>genres</th>\n",
       "      <th>track_pop</th>\n",
       "    </tr>\n",
       "  </thead>\n",
       "  <tbody>\n",
       "    <tr>\n",
       "      <th>0</th>\n",
       "      <td>0</td>\n",
       "      <td>Throwbacks</td>\n",
       "      <td>NaN</td>\n",
       "      <td>1493424000</td>\n",
       "      <td>37</td>\n",
       "      <td>47</td>\n",
       "      <td>52</td>\n",
       "      <td>1</td>\n",
       "      <td>6</td>\n",
       "      <td>11532414</td>\n",
       "      <td>...</td>\n",
       "      <td>audio_features</td>\n",
       "      <td>0UaMYEvWZi0ZqiDOoHU3YI</td>\n",
       "      <td>spotify:track:0UaMYEvWZi0ZqiDOoHU3YI</td>\n",
       "      <td>https://api.spotify.com/v1/tracks/0UaMYEvWZi0Z...</td>\n",
       "      <td>https://api.spotify.com/v1/audio-analysis/0UaM...</td>\n",
       "      <td>226864</td>\n",
       "      <td>4</td>\n",
       "      <td>70</td>\n",
       "      <td>dance_pop hip_hop hip_pop pop_rap r&amp;b rap urba...</td>\n",
       "      <td>67</td>\n",
       "    </tr>\n",
       "    <tr>\n",
       "      <th>1</th>\n",
       "      <td>0</td>\n",
       "      <td>Throwbacks</td>\n",
       "      <td>NaN</td>\n",
       "      <td>1493424000</td>\n",
       "      <td>37</td>\n",
       "      <td>47</td>\n",
       "      <td>52</td>\n",
       "      <td>1</td>\n",
       "      <td>6</td>\n",
       "      <td>11532414</td>\n",
       "      <td>...</td>\n",
       "      <td>audio_features</td>\n",
       "      <td>0UaMYEvWZi0ZqiDOoHU3YI</td>\n",
       "      <td>spotify:track:0UaMYEvWZi0ZqiDOoHU3YI</td>\n",
       "      <td>https://api.spotify.com/v1/tracks/0UaMYEvWZi0Z...</td>\n",
       "      <td>https://api.spotify.com/v1/audio-analysis/0UaM...</td>\n",
       "      <td>226864</td>\n",
       "      <td>4</td>\n",
       "      <td>70</td>\n",
       "      <td>dance_pop hip_hop hip_pop pop_rap r&amp;b rap urba...</td>\n",
       "      <td>67</td>\n",
       "    </tr>\n",
       "    <tr>\n",
       "      <th>2</th>\n",
       "      <td>123</td>\n",
       "      <td>w o r k o u t</td>\n",
       "      <td>NaN</td>\n",
       "      <td>1500681600</td>\n",
       "      <td>171</td>\n",
       "      <td>225</td>\n",
       "      <td>245</td>\n",
       "      <td>1</td>\n",
       "      <td>26</td>\n",
       "      <td>55676545</td>\n",
       "      <td>...</td>\n",
       "      <td>audio_features</td>\n",
       "      <td>0UaMYEvWZi0ZqiDOoHU3YI</td>\n",
       "      <td>spotify:track:0UaMYEvWZi0ZqiDOoHU3YI</td>\n",
       "      <td>https://api.spotify.com/v1/tracks/0UaMYEvWZi0Z...</td>\n",
       "      <td>https://api.spotify.com/v1/audio-analysis/0UaM...</td>\n",
       "      <td>226864</td>\n",
       "      <td>4</td>\n",
       "      <td>70</td>\n",
       "      <td>dance_pop hip_hop hip_pop pop_rap r&amp;b rap urba...</td>\n",
       "      <td>67</td>\n",
       "    </tr>\n",
       "    <tr>\n",
       "      <th>3</th>\n",
       "      <td>123</td>\n",
       "      <td>w o r k o u t</td>\n",
       "      <td>NaN</td>\n",
       "      <td>1500681600</td>\n",
       "      <td>171</td>\n",
       "      <td>225</td>\n",
       "      <td>245</td>\n",
       "      <td>1</td>\n",
       "      <td>26</td>\n",
       "      <td>55676545</td>\n",
       "      <td>...</td>\n",
       "      <td>audio_features</td>\n",
       "      <td>0UaMYEvWZi0ZqiDOoHU3YI</td>\n",
       "      <td>spotify:track:0UaMYEvWZi0ZqiDOoHU3YI</td>\n",
       "      <td>https://api.spotify.com/v1/tracks/0UaMYEvWZi0Z...</td>\n",
       "      <td>https://api.spotify.com/v1/audio-analysis/0UaM...</td>\n",
       "      <td>226864</td>\n",
       "      <td>4</td>\n",
       "      <td>70</td>\n",
       "      <td>dance_pop hip_hop hip_pop pop_rap r&amp;b rap urba...</td>\n",
       "      <td>67</td>\n",
       "    </tr>\n",
       "    <tr>\n",
       "      <th>4</th>\n",
       "      <td>218</td>\n",
       "      <td>party playlist</td>\n",
       "      <td>NaN</td>\n",
       "      <td>1504310400</td>\n",
       "      <td>74</td>\n",
       "      <td>93</td>\n",
       "      <td>98</td>\n",
       "      <td>1</td>\n",
       "      <td>4</td>\n",
       "      <td>21299385</td>\n",
       "      <td>...</td>\n",
       "      <td>audio_features</td>\n",
       "      <td>0UaMYEvWZi0ZqiDOoHU3YI</td>\n",
       "      <td>spotify:track:0UaMYEvWZi0ZqiDOoHU3YI</td>\n",
       "      <td>https://api.spotify.com/v1/tracks/0UaMYEvWZi0Z...</td>\n",
       "      <td>https://api.spotify.com/v1/audio-analysis/0UaM...</td>\n",
       "      <td>226864</td>\n",
       "      <td>4</td>\n",
       "      <td>70</td>\n",
       "      <td>dance_pop hip_hop hip_pop pop_rap r&amp;b rap urba...</td>\n",
       "      <td>67</td>\n",
       "    </tr>\n",
       "  </tbody>\n",
       "</table>\n",
       "<p>5 rows × 40 columns</p>\n",
       "</div>"
      ],
      "text/plain": [
       "   pid            name description modified_at num_artists num_albums  \\\n",
       "0    0      Throwbacks         NaN  1493424000          37         47   \n",
       "1    0      Throwbacks         NaN  1493424000          37         47   \n",
       "2  123   w o r k o u t         NaN  1500681600         171        225   \n",
       "3  123   w o r k o u t         NaN  1500681600         171        225   \n",
       "4  218  party playlist         NaN  1504310400          74         93   \n",
       "\n",
       "  num_tracks num_followers num_edits playlist_duration_ms  ...  \\\n",
       "0         52             1         6             11532414  ...   \n",
       "1         52             1         6             11532414  ...   \n",
       "2        245             1        26             55676545  ...   \n",
       "3        245             1        26             55676545  ...   \n",
       "4         98             1         4             21299385  ...   \n",
       "\n",
       "             type                      id  \\\n",
       "0  audio_features  0UaMYEvWZi0ZqiDOoHU3YI   \n",
       "1  audio_features  0UaMYEvWZi0ZqiDOoHU3YI   \n",
       "2  audio_features  0UaMYEvWZi0ZqiDOoHU3YI   \n",
       "3  audio_features  0UaMYEvWZi0ZqiDOoHU3YI   \n",
       "4  audio_features  0UaMYEvWZi0ZqiDOoHU3YI   \n",
       "\n",
       "                                    uri  \\\n",
       "0  spotify:track:0UaMYEvWZi0ZqiDOoHU3YI   \n",
       "1  spotify:track:0UaMYEvWZi0ZqiDOoHU3YI   \n",
       "2  spotify:track:0UaMYEvWZi0ZqiDOoHU3YI   \n",
       "3  spotify:track:0UaMYEvWZi0ZqiDOoHU3YI   \n",
       "4  spotify:track:0UaMYEvWZi0ZqiDOoHU3YI   \n",
       "\n",
       "                                          track_href  \\\n",
       "0  https://api.spotify.com/v1/tracks/0UaMYEvWZi0Z...   \n",
       "1  https://api.spotify.com/v1/tracks/0UaMYEvWZi0Z...   \n",
       "2  https://api.spotify.com/v1/tracks/0UaMYEvWZi0Z...   \n",
       "3  https://api.spotify.com/v1/tracks/0UaMYEvWZi0Z...   \n",
       "4  https://api.spotify.com/v1/tracks/0UaMYEvWZi0Z...   \n",
       "\n",
       "                                        analysis_url duration_ms_y  \\\n",
       "0  https://api.spotify.com/v1/audio-analysis/0UaM...        226864   \n",
       "1  https://api.spotify.com/v1/audio-analysis/0UaM...        226864   \n",
       "2  https://api.spotify.com/v1/audio-analysis/0UaM...        226864   \n",
       "3  https://api.spotify.com/v1/audio-analysis/0UaM...        226864   \n",
       "4  https://api.spotify.com/v1/audio-analysis/0UaM...        226864   \n",
       "\n",
       "  time_signature  artist_pop  \\\n",
       "0              4          70   \n",
       "1              4          70   \n",
       "2              4          70   \n",
       "3              4          70   \n",
       "4              4          70   \n",
       "\n",
       "                                              genres  track_pop  \n",
       "0  dance_pop hip_hop hip_pop pop_rap r&b rap urba...         67  \n",
       "1  dance_pop hip_hop hip_pop pop_rap r&b rap urba...         67  \n",
       "2  dance_pop hip_hop hip_pop pop_rap r&b rap urba...         67  \n",
       "3  dance_pop hip_hop hip_pop pop_rap r&b rap urba...         67  \n",
       "4  dance_pop hip_hop hip_pop pop_rap r&b rap urba...         67  \n",
       "\n",
       "[5 rows x 40 columns]"
      ]
     },
     "execution_count": 84,
     "metadata": {},
     "output_type": "execute_result"
    }
   ],
   "source": [
    "# Merge the raw data and extracted features\n",
    "pre_processed_data = pd.merge(df,features_data, left_on = \"track_uri\", right_on= \"id\")\n",
    "print(pre_processed_data .columns)\n",
    "pre_processed_data .head()"
   ]
  },
  {
   "cell_type": "code",
   "execution_count": 85,
   "id": "a00634ca",
   "metadata": {},
   "outputs": [
    {
     "data": {
      "text/html": [
       "<div>\n",
       "<style scoped>\n",
       "    .dataframe tbody tr th:only-of-type {\n",
       "        vertical-align: middle;\n",
       "    }\n",
       "\n",
       "    .dataframe tbody tr th {\n",
       "        vertical-align: top;\n",
       "    }\n",
       "\n",
       "    .dataframe thead th {\n",
       "        text-align: right;\n",
       "    }\n",
       "</style>\n",
       "<table border=\"1\" class=\"dataframe\">\n",
       "  <thead>\n",
       "    <tr style=\"text-align: right;\">\n",
       "      <th></th>\n",
       "      <th>pid</th>\n",
       "      <th>name</th>\n",
       "      <th>description</th>\n",
       "      <th>modified_at</th>\n",
       "      <th>num_artists</th>\n",
       "      <th>num_albums</th>\n",
       "      <th>num_tracks</th>\n",
       "      <th>num_followers</th>\n",
       "      <th>num_edits</th>\n",
       "      <th>playlist_duration_ms</th>\n",
       "      <th>...</th>\n",
       "      <th>id</th>\n",
       "      <th>uri</th>\n",
       "      <th>track_href</th>\n",
       "      <th>analysis_url</th>\n",
       "      <th>duration_ms_y</th>\n",
       "      <th>time_signature</th>\n",
       "      <th>artist_pop</th>\n",
       "      <th>genres</th>\n",
       "      <th>track_pop</th>\n",
       "      <th>artists_song</th>\n",
       "    </tr>\n",
       "  </thead>\n",
       "  <tbody>\n",
       "    <tr>\n",
       "      <th>0</th>\n",
       "      <td>0</td>\n",
       "      <td>Throwbacks</td>\n",
       "      <td>NaN</td>\n",
       "      <td>1493424000</td>\n",
       "      <td>37</td>\n",
       "      <td>47</td>\n",
       "      <td>52</td>\n",
       "      <td>1</td>\n",
       "      <td>6</td>\n",
       "      <td>11532414</td>\n",
       "      <td>...</td>\n",
       "      <td>0UaMYEvWZi0ZqiDOoHU3YI</td>\n",
       "      <td>spotify:track:0UaMYEvWZi0ZqiDOoHU3YI</td>\n",
       "      <td>https://api.spotify.com/v1/tracks/0UaMYEvWZi0Z...</td>\n",
       "      <td>https://api.spotify.com/v1/audio-analysis/0UaM...</td>\n",
       "      <td>226864</td>\n",
       "      <td>4</td>\n",
       "      <td>70</td>\n",
       "      <td>dance_pop hip_hop hip_pop pop_rap r&amp;b rap urba...</td>\n",
       "      <td>67</td>\n",
       "      <td>Missy ElliottLose Control (feat. Ciara &amp; Fat M...</td>\n",
       "    </tr>\n",
       "    <tr>\n",
       "      <th>42</th>\n",
       "      <td>0</td>\n",
       "      <td>Throwbacks</td>\n",
       "      <td>NaN</td>\n",
       "      <td>1493424000</td>\n",
       "      <td>37</td>\n",
       "      <td>47</td>\n",
       "      <td>52</td>\n",
       "      <td>1</td>\n",
       "      <td>6</td>\n",
       "      <td>11532414</td>\n",
       "      <td>...</td>\n",
       "      <td>6I9VzXrHxO9rA9A5euc8Ak</td>\n",
       "      <td>spotify:track:6I9VzXrHxO9rA9A5euc8Ak</td>\n",
       "      <td>https://api.spotify.com/v1/tracks/6I9VzXrHxO9r...</td>\n",
       "      <td>https://api.spotify.com/v1/audio-analysis/6I9V...</td>\n",
       "      <td>198800</td>\n",
       "      <td>4</td>\n",
       "      <td>81</td>\n",
       "      <td>dance_pop pop</td>\n",
       "      <td>81</td>\n",
       "      <td>Britney SpearsToxic</td>\n",
       "    </tr>\n",
       "    <tr>\n",
       "      <th>136</th>\n",
       "      <td>0</td>\n",
       "      <td>Throwbacks</td>\n",
       "      <td>NaN</td>\n",
       "      <td>1493424000</td>\n",
       "      <td>37</td>\n",
       "      <td>47</td>\n",
       "      <td>52</td>\n",
       "      <td>1</td>\n",
       "      <td>6</td>\n",
       "      <td>11532414</td>\n",
       "      <td>...</td>\n",
       "      <td>0WqIKmW4BTrj3eJFmnCKMv</td>\n",
       "      <td>spotify:track:0WqIKmW4BTrj3eJFmnCKMv</td>\n",
       "      <td>https://api.spotify.com/v1/tracks/0WqIKmW4BTrj...</td>\n",
       "      <td>https://api.spotify.com/v1/audio-analysis/0WqI...</td>\n",
       "      <td>235933</td>\n",
       "      <td>4</td>\n",
       "      <td>88</td>\n",
       "      <td>dance_pop pop r&amp;b</td>\n",
       "      <td>21</td>\n",
       "      <td>BeyoncéCrazy In Love</td>\n",
       "    </tr>\n",
       "    <tr>\n",
       "      <th>300</th>\n",
       "      <td>0</td>\n",
       "      <td>Throwbacks</td>\n",
       "      <td>NaN</td>\n",
       "      <td>1493424000</td>\n",
       "      <td>37</td>\n",
       "      <td>47</td>\n",
       "      <td>52</td>\n",
       "      <td>1</td>\n",
       "      <td>6</td>\n",
       "      <td>11532414</td>\n",
       "      <td>...</td>\n",
       "      <td>1AWQoqb9bSvzTjaLralEkT</td>\n",
       "      <td>spotify:track:1AWQoqb9bSvzTjaLralEkT</td>\n",
       "      <td>https://api.spotify.com/v1/tracks/1AWQoqb9bSvz...</td>\n",
       "      <td>https://api.spotify.com/v1/audio-analysis/1AWQ...</td>\n",
       "      <td>267267</td>\n",
       "      <td>4</td>\n",
       "      <td>80</td>\n",
       "      <td>dance_pop pop</td>\n",
       "      <td>76</td>\n",
       "      <td>Justin TimberlakeRock Your Body</td>\n",
       "    </tr>\n",
       "    <tr>\n",
       "      <th>366</th>\n",
       "      <td>0</td>\n",
       "      <td>Throwbacks</td>\n",
       "      <td>NaN</td>\n",
       "      <td>1493424000</td>\n",
       "      <td>37</td>\n",
       "      <td>47</td>\n",
       "      <td>52</td>\n",
       "      <td>1</td>\n",
       "      <td>6</td>\n",
       "      <td>11532414</td>\n",
       "      <td>...</td>\n",
       "      <td>1lzr43nnXAijIGYnCT8M8H</td>\n",
       "      <td>spotify:track:1lzr43nnXAijIGYnCT8M8H</td>\n",
       "      <td>https://api.spotify.com/v1/tracks/1lzr43nnXAij...</td>\n",
       "      <td>https://api.spotify.com/v1/audio-analysis/1lzr...</td>\n",
       "      <td>227600</td>\n",
       "      <td>4</td>\n",
       "      <td>72</td>\n",
       "      <td>dance_pop pop_rap reggae_fusion</td>\n",
       "      <td>0</td>\n",
       "      <td>ShaggyIt Wasn't Me</td>\n",
       "    </tr>\n",
       "    <tr>\n",
       "      <th>...</th>\n",
       "      <td>...</td>\n",
       "      <td>...</td>\n",
       "      <td>...</td>\n",
       "      <td>...</td>\n",
       "      <td>...</td>\n",
       "      <td>...</td>\n",
       "      <td>...</td>\n",
       "      <td>...</td>\n",
       "      <td>...</td>\n",
       "      <td>...</td>\n",
       "      <td>...</td>\n",
       "      <td>...</td>\n",
       "      <td>...</td>\n",
       "      <td>...</td>\n",
       "      <td>...</td>\n",
       "      <td>...</td>\n",
       "      <td>...</td>\n",
       "      <td>...</td>\n",
       "      <td>...</td>\n",
       "      <td>...</td>\n",
       "      <td>...</td>\n",
       "    </tr>\n",
       "    <tr>\n",
       "      <th>61180</th>\n",
       "      <td>38</td>\n",
       "      <td>tb</td>\n",
       "      <td>NaN</td>\n",
       "      <td>1503446400</td>\n",
       "      <td>42</td>\n",
       "      <td>51</td>\n",
       "      <td>53</td>\n",
       "      <td>1</td>\n",
       "      <td>16</td>\n",
       "      <td>12636678</td>\n",
       "      <td>...</td>\n",
       "      <td>1l6M9DOVGGgamNxexwr7Gx</td>\n",
       "      <td>spotify:track:1l6M9DOVGGgamNxexwr7Gx</td>\n",
       "      <td>https://api.spotify.com/v1/tracks/1l6M9DOVGGga...</td>\n",
       "      <td>https://api.spotify.com/v1/audio-analysis/1l6M...</td>\n",
       "      <td>208493</td>\n",
       "      <td>4</td>\n",
       "      <td>79</td>\n",
       "      <td>dance_pop pop</td>\n",
       "      <td>0</td>\n",
       "      <td>P!nkWho Knew</td>\n",
       "    </tr>\n",
       "    <tr>\n",
       "      <th>61190</th>\n",
       "      <td>38</td>\n",
       "      <td>tb</td>\n",
       "      <td>NaN</td>\n",
       "      <td>1503446400</td>\n",
       "      <td>42</td>\n",
       "      <td>51</td>\n",
       "      <td>53</td>\n",
       "      <td>1</td>\n",
       "      <td>16</td>\n",
       "      <td>12636678</td>\n",
       "      <td>...</td>\n",
       "      <td>2aBxt229cbLDOvtL7Xbb9x</td>\n",
       "      <td>spotify:track:2aBxt229cbLDOvtL7Xbb9x</td>\n",
       "      <td>https://api.spotify.com/v1/tracks/2aBxt229cbLD...</td>\n",
       "      <td>https://api.spotify.com/v1/audio-analysis/2aBx...</td>\n",
       "      <td>258133</td>\n",
       "      <td>4</td>\n",
       "      <td>76</td>\n",
       "      <td>dance_pop pop r&amp;b urban_contemporary</td>\n",
       "      <td>72</td>\n",
       "      <td>Mariah CareyAlways Be My Baby</td>\n",
       "    </tr>\n",
       "    <tr>\n",
       "      <th>61234</th>\n",
       "      <td>38</td>\n",
       "      <td>tb</td>\n",
       "      <td>NaN</td>\n",
       "      <td>1503446400</td>\n",
       "      <td>42</td>\n",
       "      <td>51</td>\n",
       "      <td>53</td>\n",
       "      <td>1</td>\n",
       "      <td>16</td>\n",
       "      <td>12636678</td>\n",
       "      <td>...</td>\n",
       "      <td>4S5b3wwIXpVNvY2jeIQdKu</td>\n",
       "      <td>spotify:track:4S5b3wwIXpVNvY2jeIQdKu</td>\n",
       "      <td>https://api.spotify.com/v1/tracks/4S5b3wwIXpVN...</td>\n",
       "      <td>https://api.spotify.com/v1/audio-analysis/4S5b...</td>\n",
       "      <td>238920</td>\n",
       "      <td>4</td>\n",
       "      <td>87</td>\n",
       "      <td>barbadian_pop dance_pop pop urban_contemporary</td>\n",
       "      <td>0</td>\n",
       "      <td>RihannaSOS</td>\n",
       "    </tr>\n",
       "    <tr>\n",
       "      <th>61272</th>\n",
       "      <td>38</td>\n",
       "      <td>tb</td>\n",
       "      <td>NaN</td>\n",
       "      <td>1503446400</td>\n",
       "      <td>42</td>\n",
       "      <td>51</td>\n",
       "      <td>53</td>\n",
       "      <td>1</td>\n",
       "      <td>16</td>\n",
       "      <td>12636678</td>\n",
       "      <td>...</td>\n",
       "      <td>39afswHs17v53znQm1gDTY</td>\n",
       "      <td>spotify:track:39afswHs17v53znQm1gDTY</td>\n",
       "      <td>https://api.spotify.com/v1/tracks/39afswHs17v5...</td>\n",
       "      <td>https://api.spotify.com/v1/audio-analysis/39af...</td>\n",
       "      <td>229413</td>\n",
       "      <td>4</td>\n",
       "      <td>87</td>\n",
       "      <td>barbadian_pop dance_pop pop urban_contemporary</td>\n",
       "      <td>61</td>\n",
       "      <td>RihannaTake A Bow - Main</td>\n",
       "    </tr>\n",
       "    <tr>\n",
       "      <th>61326</th>\n",
       "      <td>38</td>\n",
       "      <td>tb</td>\n",
       "      <td>NaN</td>\n",
       "      <td>1503446400</td>\n",
       "      <td>42</td>\n",
       "      <td>51</td>\n",
       "      <td>53</td>\n",
       "      <td>1</td>\n",
       "      <td>16</td>\n",
       "      <td>12636678</td>\n",
       "      <td>...</td>\n",
       "      <td>26eOTllWPn7oKuDUJnsJwF</td>\n",
       "      <td>spotify:track:26eOTllWPn7oKuDUJnsJwF</td>\n",
       "      <td>https://api.spotify.com/v1/tracks/26eOTllWPn7o...</td>\n",
       "      <td>https://api.spotify.com/v1/audio-analysis/26eO...</td>\n",
       "      <td>246467</td>\n",
       "      <td>4</td>\n",
       "      <td>72</td>\n",
       "      <td>dance_pop pop</td>\n",
       "      <td>0</td>\n",
       "      <td>Gwen StefaniThe Sweet Escape</td>\n",
       "    </tr>\n",
       "  </tbody>\n",
       "</table>\n",
       "<p>1999 rows × 41 columns</p>\n",
       "</div>"
      ],
      "text/plain": [
       "      pid        name description modified_at num_artists num_albums  \\\n",
       "0       0  Throwbacks         NaN  1493424000          37         47   \n",
       "42      0  Throwbacks         NaN  1493424000          37         47   \n",
       "136     0  Throwbacks         NaN  1493424000          37         47   \n",
       "300     0  Throwbacks         NaN  1493424000          37         47   \n",
       "366     0  Throwbacks         NaN  1493424000          37         47   \n",
       "...    ..         ...         ...         ...         ...        ...   \n",
       "61180  38          tb         NaN  1503446400          42         51   \n",
       "61190  38          tb         NaN  1503446400          42         51   \n",
       "61234  38          tb         NaN  1503446400          42         51   \n",
       "61272  38          tb         NaN  1503446400          42         51   \n",
       "61326  38          tb         NaN  1503446400          42         51   \n",
       "\n",
       "      num_tracks num_followers num_edits playlist_duration_ms  ...  \\\n",
       "0             52             1         6             11532414  ...   \n",
       "42            52             1         6             11532414  ...   \n",
       "136           52             1         6             11532414  ...   \n",
       "300           52             1         6             11532414  ...   \n",
       "366           52             1         6             11532414  ...   \n",
       "...          ...           ...       ...                  ...  ...   \n",
       "61180         53             1        16             12636678  ...   \n",
       "61190         53             1        16             12636678  ...   \n",
       "61234         53             1        16             12636678  ...   \n",
       "61272         53             1        16             12636678  ...   \n",
       "61326         53             1        16             12636678  ...   \n",
       "\n",
       "                           id                                   uri  \\\n",
       "0      0UaMYEvWZi0ZqiDOoHU3YI  spotify:track:0UaMYEvWZi0ZqiDOoHU3YI   \n",
       "42     6I9VzXrHxO9rA9A5euc8Ak  spotify:track:6I9VzXrHxO9rA9A5euc8Ak   \n",
       "136    0WqIKmW4BTrj3eJFmnCKMv  spotify:track:0WqIKmW4BTrj3eJFmnCKMv   \n",
       "300    1AWQoqb9bSvzTjaLralEkT  spotify:track:1AWQoqb9bSvzTjaLralEkT   \n",
       "366    1lzr43nnXAijIGYnCT8M8H  spotify:track:1lzr43nnXAijIGYnCT8M8H   \n",
       "...                       ...                                   ...   \n",
       "61180  1l6M9DOVGGgamNxexwr7Gx  spotify:track:1l6M9DOVGGgamNxexwr7Gx   \n",
       "61190  2aBxt229cbLDOvtL7Xbb9x  spotify:track:2aBxt229cbLDOvtL7Xbb9x   \n",
       "61234  4S5b3wwIXpVNvY2jeIQdKu  spotify:track:4S5b3wwIXpVNvY2jeIQdKu   \n",
       "61272  39afswHs17v53znQm1gDTY  spotify:track:39afswHs17v53znQm1gDTY   \n",
       "61326  26eOTllWPn7oKuDUJnsJwF  spotify:track:26eOTllWPn7oKuDUJnsJwF   \n",
       "\n",
       "                                              track_href  \\\n",
       "0      https://api.spotify.com/v1/tracks/0UaMYEvWZi0Z...   \n",
       "42     https://api.spotify.com/v1/tracks/6I9VzXrHxO9r...   \n",
       "136    https://api.spotify.com/v1/tracks/0WqIKmW4BTrj...   \n",
       "300    https://api.spotify.com/v1/tracks/1AWQoqb9bSvz...   \n",
       "366    https://api.spotify.com/v1/tracks/1lzr43nnXAij...   \n",
       "...                                                  ...   \n",
       "61180  https://api.spotify.com/v1/tracks/1l6M9DOVGGga...   \n",
       "61190  https://api.spotify.com/v1/tracks/2aBxt229cbLD...   \n",
       "61234  https://api.spotify.com/v1/tracks/4S5b3wwIXpVN...   \n",
       "61272  https://api.spotify.com/v1/tracks/39afswHs17v5...   \n",
       "61326  https://api.spotify.com/v1/tracks/26eOTllWPn7o...   \n",
       "\n",
       "                                            analysis_url duration_ms_y  \\\n",
       "0      https://api.spotify.com/v1/audio-analysis/0UaM...        226864   \n",
       "42     https://api.spotify.com/v1/audio-analysis/6I9V...        198800   \n",
       "136    https://api.spotify.com/v1/audio-analysis/0WqI...        235933   \n",
       "300    https://api.spotify.com/v1/audio-analysis/1AWQ...        267267   \n",
       "366    https://api.spotify.com/v1/audio-analysis/1lzr...        227600   \n",
       "...                                                  ...           ...   \n",
       "61180  https://api.spotify.com/v1/audio-analysis/1l6M...        208493   \n",
       "61190  https://api.spotify.com/v1/audio-analysis/2aBx...        258133   \n",
       "61234  https://api.spotify.com/v1/audio-analysis/4S5b...        238920   \n",
       "61272  https://api.spotify.com/v1/audio-analysis/39af...        229413   \n",
       "61326  https://api.spotify.com/v1/audio-analysis/26eO...        246467   \n",
       "\n",
       "      time_signature artist_pop  \\\n",
       "0                  4         70   \n",
       "42                 4         81   \n",
       "136                4         88   \n",
       "300                4         80   \n",
       "366                4         72   \n",
       "...              ...        ...   \n",
       "61180              4         79   \n",
       "61190              4         76   \n",
       "61234              4         87   \n",
       "61272              4         87   \n",
       "61326              4         72   \n",
       "\n",
       "                                                  genres track_pop  \\\n",
       "0      dance_pop hip_hop hip_pop pop_rap r&b rap urba...        67   \n",
       "42                                         dance_pop pop        81   \n",
       "136                                    dance_pop pop r&b        21   \n",
       "300                                        dance_pop pop        76   \n",
       "366                      dance_pop pop_rap reggae_fusion         0   \n",
       "...                                                  ...       ...   \n",
       "61180                                      dance_pop pop         0   \n",
       "61190               dance_pop pop r&b urban_contemporary        72   \n",
       "61234     barbadian_pop dance_pop pop urban_contemporary         0   \n",
       "61272     barbadian_pop dance_pop pop urban_contemporary        61   \n",
       "61326                                      dance_pop pop         0   \n",
       "\n",
       "                                            artists_song  \n",
       "0      Missy ElliottLose Control (feat. Ciara & Fat M...  \n",
       "42                                   Britney SpearsToxic  \n",
       "136                                 BeyoncéCrazy In Love  \n",
       "300                      Justin TimberlakeRock Your Body  \n",
       "366                                   ShaggyIt Wasn't Me  \n",
       "...                                                  ...  \n",
       "61180                                       P!nkWho Knew  \n",
       "61190                      Mariah CareyAlways Be My Baby  \n",
       "61234                                         RihannaSOS  \n",
       "61272                           RihannaTake A Bow - Main  \n",
       "61326                       Gwen StefaniThe Sweet Escape  \n",
       "\n",
       "[1999 rows x 41 columns]"
      ]
     },
     "execution_count": 85,
     "metadata": {},
     "output_type": "execute_result"
    }
   ],
   "source": [
    "# Drop duplicate tracks\n",
    "pre_processed_data['artists_song'] = pre_processed_data.apply(lambda x: x['artist_name']+x['track_name'],axis = 1)\n",
    "pre_processed_data.drop_duplicates('artists_song')"
   ]
  },
  {
   "cell_type": "code",
   "execution_count": 86,
   "id": "5c12848e",
   "metadata": {},
   "outputs": [
    {
     "data": {
      "text/html": [
       "<div>\n",
       "<style scoped>\n",
       "    .dataframe tbody tr th:only-of-type {\n",
       "        vertical-align: middle;\n",
       "    }\n",
       "\n",
       "    .dataframe tbody tr th {\n",
       "        vertical-align: top;\n",
       "    }\n",
       "\n",
       "    .dataframe thead th {\n",
       "        text-align: right;\n",
       "    }\n",
       "</style>\n",
       "<table border=\"1\" class=\"dataframe\">\n",
       "  <thead>\n",
       "    <tr style=\"text-align: right;\">\n",
       "      <th></th>\n",
       "      <th>pid</th>\n",
       "      <th>name</th>\n",
       "      <th>modified_at</th>\n",
       "      <th>num_artists</th>\n",
       "      <th>num_albums</th>\n",
       "      <th>num_tracks</th>\n",
       "      <th>num_followers</th>\n",
       "      <th>num_edits</th>\n",
       "      <th>playlist_duration_ms</th>\n",
       "      <th>collaborative</th>\n",
       "      <th>...</th>\n",
       "      <th>tempo</th>\n",
       "      <th>type</th>\n",
       "      <th>id</th>\n",
       "      <th>track_href</th>\n",
       "      <th>analysis_url</th>\n",
       "      <th>duration_ms_y</th>\n",
       "      <th>time_signature</th>\n",
       "      <th>artist_pop</th>\n",
       "      <th>genres</th>\n",
       "      <th>track_pop</th>\n",
       "    </tr>\n",
       "  </thead>\n",
       "  <tbody>\n",
       "    <tr>\n",
       "      <th>0</th>\n",
       "      <td>0</td>\n",
       "      <td>Throwbacks</td>\n",
       "      <td>1493424000</td>\n",
       "      <td>37</td>\n",
       "      <td>47</td>\n",
       "      <td>52</td>\n",
       "      <td>1</td>\n",
       "      <td>6</td>\n",
       "      <td>11532414</td>\n",
       "      <td>false</td>\n",
       "      <td>...</td>\n",
       "      <td>125.461</td>\n",
       "      <td>audio_features</td>\n",
       "      <td>0UaMYEvWZi0ZqiDOoHU3YI</td>\n",
       "      <td>https://api.spotify.com/v1/tracks/0UaMYEvWZi0Z...</td>\n",
       "      <td>https://api.spotify.com/v1/audio-analysis/0UaM...</td>\n",
       "      <td>226864</td>\n",
       "      <td>4</td>\n",
       "      <td>70</td>\n",
       "      <td>dance_pop hip_hop hip_pop pop_rap r&amp;b rap urba...</td>\n",
       "      <td>67</td>\n",
       "    </tr>\n",
       "    <tr>\n",
       "      <th>1</th>\n",
       "      <td>0</td>\n",
       "      <td>Throwbacks</td>\n",
       "      <td>1493424000</td>\n",
       "      <td>37</td>\n",
       "      <td>47</td>\n",
       "      <td>52</td>\n",
       "      <td>1</td>\n",
       "      <td>6</td>\n",
       "      <td>11532414</td>\n",
       "      <td>false</td>\n",
       "      <td>...</td>\n",
       "      <td>125.461</td>\n",
       "      <td>audio_features</td>\n",
       "      <td>0UaMYEvWZi0ZqiDOoHU3YI</td>\n",
       "      <td>https://api.spotify.com/v1/tracks/0UaMYEvWZi0Z...</td>\n",
       "      <td>https://api.spotify.com/v1/audio-analysis/0UaM...</td>\n",
       "      <td>226864</td>\n",
       "      <td>4</td>\n",
       "      <td>70</td>\n",
       "      <td>dance_pop hip_hop hip_pop pop_rap r&amp;b rap urba...</td>\n",
       "      <td>67</td>\n",
       "    </tr>\n",
       "    <tr>\n",
       "      <th>2</th>\n",
       "      <td>123</td>\n",
       "      <td>w o r k o u t</td>\n",
       "      <td>1500681600</td>\n",
       "      <td>171</td>\n",
       "      <td>225</td>\n",
       "      <td>245</td>\n",
       "      <td>1</td>\n",
       "      <td>26</td>\n",
       "      <td>55676545</td>\n",
       "      <td>false</td>\n",
       "      <td>...</td>\n",
       "      <td>125.461</td>\n",
       "      <td>audio_features</td>\n",
       "      <td>0UaMYEvWZi0ZqiDOoHU3YI</td>\n",
       "      <td>https://api.spotify.com/v1/tracks/0UaMYEvWZi0Z...</td>\n",
       "      <td>https://api.spotify.com/v1/audio-analysis/0UaM...</td>\n",
       "      <td>226864</td>\n",
       "      <td>4</td>\n",
       "      <td>70</td>\n",
       "      <td>dance_pop hip_hop hip_pop pop_rap r&amp;b rap urba...</td>\n",
       "      <td>67</td>\n",
       "    </tr>\n",
       "    <tr>\n",
       "      <th>3</th>\n",
       "      <td>123</td>\n",
       "      <td>w o r k o u t</td>\n",
       "      <td>1500681600</td>\n",
       "      <td>171</td>\n",
       "      <td>225</td>\n",
       "      <td>245</td>\n",
       "      <td>1</td>\n",
       "      <td>26</td>\n",
       "      <td>55676545</td>\n",
       "      <td>false</td>\n",
       "      <td>...</td>\n",
       "      <td>125.461</td>\n",
       "      <td>audio_features</td>\n",
       "      <td>0UaMYEvWZi0ZqiDOoHU3YI</td>\n",
       "      <td>https://api.spotify.com/v1/tracks/0UaMYEvWZi0Z...</td>\n",
       "      <td>https://api.spotify.com/v1/audio-analysis/0UaM...</td>\n",
       "      <td>226864</td>\n",
       "      <td>4</td>\n",
       "      <td>70</td>\n",
       "      <td>dance_pop hip_hop hip_pop pop_rap r&amp;b rap urba...</td>\n",
       "      <td>67</td>\n",
       "    </tr>\n",
       "    <tr>\n",
       "      <th>4</th>\n",
       "      <td>218</td>\n",
       "      <td>party playlist</td>\n",
       "      <td>1504310400</td>\n",
       "      <td>74</td>\n",
       "      <td>93</td>\n",
       "      <td>98</td>\n",
       "      <td>1</td>\n",
       "      <td>4</td>\n",
       "      <td>21299385</td>\n",
       "      <td>false</td>\n",
       "      <td>...</td>\n",
       "      <td>125.461</td>\n",
       "      <td>audio_features</td>\n",
       "      <td>0UaMYEvWZi0ZqiDOoHU3YI</td>\n",
       "      <td>https://api.spotify.com/v1/tracks/0UaMYEvWZi0Z...</td>\n",
       "      <td>https://api.spotify.com/v1/audio-analysis/0UaM...</td>\n",
       "      <td>226864</td>\n",
       "      <td>4</td>\n",
       "      <td>70</td>\n",
       "      <td>dance_pop hip_hop hip_pop pop_rap r&amp;b rap urba...</td>\n",
       "      <td>67</td>\n",
       "    </tr>\n",
       "  </tbody>\n",
       "</table>\n",
       "<p>5 rows × 37 columns</p>\n",
       "</div>"
      ],
      "text/plain": [
       "   pid            name modified_at num_artists num_albums num_tracks  \\\n",
       "0    0      Throwbacks  1493424000          37         47         52   \n",
       "1    0      Throwbacks  1493424000          37         47         52   \n",
       "2  123   w o r k o u t  1500681600         171        225        245   \n",
       "3  123   w o r k o u t  1500681600         171        225        245   \n",
       "4  218  party playlist  1504310400          74         93         98   \n",
       "\n",
       "  num_followers num_edits playlist_duration_ms collaborative  ...    tempo  \\\n",
       "0             1         6             11532414         false  ...  125.461   \n",
       "1             1         6             11532414         false  ...  125.461   \n",
       "2             1        26             55676545         false  ...  125.461   \n",
       "3             1        26             55676545         false  ...  125.461   \n",
       "4             1         4             21299385         false  ...  125.461   \n",
       "\n",
       "             type                      id  \\\n",
       "0  audio_features  0UaMYEvWZi0ZqiDOoHU3YI   \n",
       "1  audio_features  0UaMYEvWZi0ZqiDOoHU3YI   \n",
       "2  audio_features  0UaMYEvWZi0ZqiDOoHU3YI   \n",
       "3  audio_features  0UaMYEvWZi0ZqiDOoHU3YI   \n",
       "4  audio_features  0UaMYEvWZi0ZqiDOoHU3YI   \n",
       "\n",
       "                                          track_href  \\\n",
       "0  https://api.spotify.com/v1/tracks/0UaMYEvWZi0Z...   \n",
       "1  https://api.spotify.com/v1/tracks/0UaMYEvWZi0Z...   \n",
       "2  https://api.spotify.com/v1/tracks/0UaMYEvWZi0Z...   \n",
       "3  https://api.spotify.com/v1/tracks/0UaMYEvWZi0Z...   \n",
       "4  https://api.spotify.com/v1/tracks/0UaMYEvWZi0Z...   \n",
       "\n",
       "                                        analysis_url  duration_ms_y  \\\n",
       "0  https://api.spotify.com/v1/audio-analysis/0UaM...         226864   \n",
       "1  https://api.spotify.com/v1/audio-analysis/0UaM...         226864   \n",
       "2  https://api.spotify.com/v1/audio-analysis/0UaM...         226864   \n",
       "3  https://api.spotify.com/v1/audio-analysis/0UaM...         226864   \n",
       "4  https://api.spotify.com/v1/audio-analysis/0UaM...         226864   \n",
       "\n",
       "  time_signature  artist_pop  \\\n",
       "0              4          70   \n",
       "1              4          70   \n",
       "2              4          70   \n",
       "3              4          70   \n",
       "4              4          70   \n",
       "\n",
       "                                              genres  track_pop  \n",
       "0  dance_pop hip_hop hip_pop pop_rap r&b rap urba...         67  \n",
       "1  dance_pop hip_hop hip_pop pop_rap r&b rap urba...         67  \n",
       "2  dance_pop hip_hop hip_pop pop_rap r&b rap urba...         67  \n",
       "3  dance_pop hip_hop hip_pop pop_rap r&b rap urba...         67  \n",
       "4  dance_pop hip_hop hip_pop pop_rap r&b rap urba...         67  \n",
       "\n",
       "[5 rows x 37 columns]"
      ]
     },
     "execution_count": 86,
     "metadata": {},
     "output_type": "execute_result"
    }
   ],
   "source": [
    "# Choose only useful columns\n",
    "pre_processed_data =pre_processed_data[['pid', 'name', 'modified_at', 'num_artists',\n",
    "       'num_albums', 'num_tracks', 'num_followers', 'num_edits',\n",
    "       'playlist_duration_ms', 'collaborative', 'pos', 'artist_name','artist_uri', 'track_name', 'album_uri','duration_ms_x',\n",
    "       'album_name', 'danceability', 'energy', 'key', 'loudness', 'mode',\n",
    "       'speechiness', 'acousticness', 'instrumentalness', 'liveness',\n",
    "       'valence', 'tempo', 'type', 'id', 'track_href', 'analysis_url',\n",
    "       'duration_ms_y', 'time_signature', 'artist_pop', 'genres', 'track_pop']]\n",
    "\n",
    "pre_processed_data.head()"
   ]
  },
  {
   "cell_type": "code",
   "execution_count": 87,
   "id": "a8bcfe38",
   "metadata": {},
   "outputs": [
    {
     "data": {
      "text/plain": [
       "0    [dance_pop, hip_hop, hip_pop, pop_rap, r&b, ra...\n",
       "1    [dance_pop, hip_hop, hip_pop, pop_rap, r&b, ra...\n",
       "2    [dance_pop, hip_hop, hip_pop, pop_rap, r&b, ra...\n",
       "3    [dance_pop, hip_hop, hip_pop, pop_rap, r&b, ra...\n",
       "4    [dance_pop, hip_hop, hip_pop, pop_rap, r&b, ra...\n",
       "Name: genres_list, dtype: object"
      ]
     },
     "execution_count": 87,
     "metadata": {},
     "output_type": "execute_result"
    }
   ],
   "source": [
    "# Pre-process of Genre column\n",
    "import warnings\n",
    "warnings.filterwarnings('ignore')\n",
    "pre_processed_data['genres_list'] = pre_processed_data['genres'].apply(lambda x: x.split(\" \"))\n",
    "pre_processed_data['genres_list'].head()"
   ]
  },
  {
   "cell_type": "code",
   "execution_count": 88,
   "id": "24040a3d",
   "metadata": {},
   "outputs": [],
   "source": [
    "# Make csv file from processed data\n",
    "pre_processed_data.to_csv(os.path.join(DATASETS_PATH, 'pre_processed_data.csv'), index=False)"
   ]
  },
  {
   "cell_type": "markdown",
   "id": "d79bd2df",
   "metadata": {},
   "source": [
    "## 03.Feature Engineering"
   ]
  },
  {
   "cell_type": "markdown",
   "id": "ab99c137",
   "metadata": {},
   "source": [
    "### 03.1.Missing Value Imputation"
   ]
  },
  {
   "cell_type": "code",
   "execution_count": 89,
   "id": "43ff883f",
   "metadata": {},
   "outputs": [],
   "source": [
    "import os\n",
    "os.chdir('E:/Internship/Data Analyst-Technocolabs/Data')"
   ]
  },
  {
   "cell_type": "code",
   "execution_count": 67,
   "id": "0394c8d1",
   "metadata": {},
   "outputs": [
    {
     "data": {
      "text/plain": [
       "pid                     0\n",
       "name                    0\n",
       "modified_at             0\n",
       "num_artists             0\n",
       "num_albums              0\n",
       "num_tracks              0\n",
       "num_followers           0\n",
       "num_edits               0\n",
       "playlist_duration_ms    0\n",
       "collaborative           0\n",
       "pos                     0\n",
       "artist_name             0\n",
       "artist_uri              0\n",
       "track_name              0\n",
       "album_uri               0\n",
       "duration_ms_x           0\n",
       "album_name              0\n",
       "danceability            0\n",
       "energy                  0\n",
       "key                     0\n",
       "loudness                0\n",
       "mode                    0\n",
       "speechiness             0\n",
       "acousticness            0\n",
       "instrumentalness        0\n",
       "liveness                0\n",
       "valence                 0\n",
       "tempo                   0\n",
       "type                    0\n",
       "id                      0\n",
       "track_href              0\n",
       "analysis_url            0\n",
       "duration_ms_y           0\n",
       "time_signature          0\n",
       "artist_pop              0\n",
       "genres                  0\n",
       "track_pop               0\n",
       "genres_list             0\n",
       "dtype: int64"
      ]
     },
     "execution_count": 67,
     "metadata": {},
     "output_type": "execute_result"
    }
   ],
   "source": [
    "pre_processed_data=pd.read_csv('pre_processed_data.csv')\n",
    "pre_processed_data.isna().sum()"
   ]
  },
  {
   "cell_type": "markdown",
   "id": "2b4a202f",
   "metadata": {},
   "source": [
    "Data set not include any NA values.So no need to do missing value imputation."
   ]
  },
  {
   "cell_type": "markdown",
   "id": "e75ca045",
   "metadata": {},
   "source": [
    "### 03.2.Outlier Treatment"
   ]
  },
  {
   "cell_type": "code",
   "execution_count": 90,
   "id": "c6c6ccd2",
   "metadata": {},
   "outputs": [
    {
     "data": {
      "image/png": "[encoded data removed]",
      "text/plain": [
       "<Figure size 432x288 with 1 Axes>"
      ]
     },
     "metadata": {
      "needs_background": "light"
     },
     "output_type": "display_data"
    },
    {
     "data": {
      "image/png": "[encoded data removed]",
      "text/plain": [
       "<Figure size 432x288 with 1 Axes>"
      ]
     },
     "metadata": {
      "needs_background": "light"
     },
     "output_type": "display_data"
    },
    {
     "data": {
      "image/png": "[encoded data removed]",
      "text/plain": [
       "<Figure size 432x288 with 1 Axes>"
      ]
     },
     "metadata": {
      "needs_background": "light"
     },
     "output_type": "display_data"
    },
    {
     "data": {
      "image/png": "[encoded data removed]",
      "text/plain": [
       "<Figure size 432x288 with 1 Axes>"
      ]
     },
     "metadata": {
      "needs_background": "light"
     },
     "output_type": "display_data"
    },
    {
     "data": {
      "image/png": "[encoded data removed]",
      "text/plain": [
       "<Figure size 432x288 with 1 Axes>"
      ]
     },
     "metadata": {
      "needs_background": "light"
     },
     "output_type": "display_data"
    },
    {
     "data": {
      "image/png": "[encoded data removed]",
      "text/plain": [
       "<Figure size 432x288 with 1 Axes>"
      ]
     },
     "metadata": {
      "needs_background": "light"
     },
     "output_type": "display_data"
    },
    {
     "data": {
      "image/png": "[encoded data removed]",
      "text/plain": [
       "<Figure size 432x288 with 1 Axes>"
      ]
     },
     "metadata": {
      "needs_background": "light"
     },
     "output_type": "display_data"
    },
    {
     "data": {
      "image/png": "[encoded data removed]",
      "text/plain": [
       "<Figure size 432x288 with 1 Axes>"
      ]
     },
     "metadata": {
      "needs_background": "light"
     },
     "output_type": "display_data"
    },
    {
     "data": {
      "image/png": "[encoded data removed]",
      "text/plain": [
       "<Figure size 432x288 with 1 Axes>"
      ]
     },
     "metadata": {
      "needs_background": "light"
     },
     "output_type": "display_data"
    },
    {
     "data": {
      "image/png": "[encoded data removed]",
      "text/plain": [
       "<Figure size 432x288 with 1 Axes>"
      ]
     },
     "metadata": {
      "needs_background": "light"
     },
     "output_type": "display_data"
    },
    {
     "data": {
      "image/png": "[encoded data removed]",
      "text/plain": [
       "<Figure size 432x288 with 1 Axes>"
      ]
     },
     "metadata": {
      "needs_background": "light"
     },
     "output_type": "display_data"
    },
    {
     "data": {
      "image/png": "[encoded data removed]",
      "text/plain": [
       "<Figure size 432x288 with 1 Axes>"
      ]
     },
     "metadata": {
      "needs_background": "light"
     },
     "output_type": "display_data"
    },
    {
     "data": {
      "image/png": "[encoded data removed]",
      "text/plain": [
       "<Figure size 432x288 with 1 Axes>"
      ]
     },
     "metadata": {
      "needs_background": "light"
     },
     "output_type": "display_data"
    },
    {
     "data": {
      "image/png": "[encoded data removed]",
      "text/plain": [
       "<Figure size 432x288 with 1 Axes>"
      ]
     },
     "metadata": {
      "needs_background": "light"
     },
     "output_type": "display_data"
    },
    {
     "data": {
      "image/png": "[encoded data removed]",
      "text/plain": [
       "<Figure size 432x288 with 1 Axes>"
      ]
     },
     "metadata": {
      "needs_background": "light"
     },
     "output_type": "display_data"
    },
    {
     "data": {
      "image/png": "[encoded data removed]",
      "text/plain": [
       "<Figure size 432x288 with 1 Axes>"
      ]
     },
     "metadata": {
      "needs_background": "light"
     },
     "output_type": "display_data"
    },
    {
     "data": {
      "image/png": "[encoded data removed]",
      "text/plain": [
       "<Figure size 432x288 with 1 Axes>"
      ]
     },
     "metadata": {
      "needs_background": "light"
     },
     "output_type": "display_data"
    }
   ],
   "source": [
    "# Check the outliers for continues variables\n",
    "cont_col=pre_processed_data.select_dtypes(include=['int64','float64'])\n",
    "for feature in cont_col:\n",
    "    sn.boxplot(pre_processed_data[feature])\n",
    "    plt.show()"
   ]
  },
  {
   "cell_type": "code",
   "execution_count": 91,
   "id": "c7b844da",
   "metadata": {},
   "outputs": [],
   "source": [
    "# Treat the outliers\n",
    "for feature in cont_col:\n",
    "    Q1=pre_processed_data[feature].quantile(0.25)\n",
    "    Q3=pre_processed_data[feature].quantile(0.75)\n",
    "    IQR=Q3-Q1\n",
    "    lower=Q1-1.5*IQR\n",
    "    upper=Q3+1.5*IQR\n",
    "    pre_processed_data[feature][(pre_processed_data[feature]<lower)]=lower\n",
    "    pre_processed_data[feature][(pre_processed_data[feature]>upper)]=upper"
   ]
  },
  {
   "cell_type": "code",
   "execution_count": 92,
   "id": "af0a4b20",
   "metadata": {},
   "outputs": [
    {
     "data": {
      "image/png": "[encoded data removed]",
      "text/plain": [
       "<Figure size 432x288 with 1 Axes>"
      ]
     },
     "metadata": {
      "needs_background": "light"
     },
     "output_type": "display_data"
    },
    {
     "data": {
      "image/png": "[encoded data removed]",
      "text/plain": [
       "<Figure size 432x288 with 1 Axes>"
      ]
     },
     "metadata": {
      "needs_background": "light"
     },
     "output_type": "display_data"
    },
    {
     "data": {
      "image/png": "[encoded data removed]",
      "text/plain": [
       "<Figure size 432x288 with 1 Axes>"
      ]
     },
     "metadata": {
      "needs_background": "light"
     },
     "output_type": "display_data"
    },
    {
     "data": {
      "image/png": "[encoded data removed]",
      "text/plain": [
       "<Figure size 432x288 with 1 Axes>"
      ]
     },
     "metadata": {
      "needs_background": "light"
     },
     "output_type": "display_data"
    },
    {
     "data": {
      "image/png": "[encoded data removed]",
      "text/plain": [
       "<Figure size 432x288 with 1 Axes>"
      ]
     },
     "metadata": {
      "needs_background": "light"
     },
     "output_type": "display_data"
    },
    {
     "data": {
      "image/png": "[encoded data removed]",
      "text/plain": [
       "<Figure size 432x288 with 1 Axes>"
      ]
     },
     "metadata": {
      "needs_background": "light"
     },
     "output_type": "display_data"
    },
    {
     "data": {
      "image/png": "[encoded data removed]",
      "text/plain": [
       "<Figure size 432x288 with 1 Axes>"
      ]
     },
     "metadata": {
      "needs_background": "light"
     },
     "output_type": "display_data"
    },
    {
     "data": {
      "image/png": "[encoded data removed]",
      "text/plain": [
       "<Figure size 432x288 with 1 Axes>"
      ]
     },
     "metadata": {
      "needs_background": "light"
     },
     "output_type": "display_data"
    },
    {
     "data": {
      "image/png": "[encoded data removed]",
      "text/plain": [
       "<Figure size 432x288 with 1 Axes>"
      ]
     },
     "metadata": {
      "needs_background": "light"
     },
     "output_type": "display_data"
    },
    {
     "data": {
      "image/png": "[encoded data removed]",
      "text/plain": [
       "<Figure size 432x288 with 1 Axes>"
      ]
     },
     "metadata": {
      "needs_background": "light"
     },
     "output_type": "display_data"
    },
    {
     "data": {
      "image/png": "[encoded data removed]",
      "text/plain": [
       "<Figure size 432x288 with 1 Axes>"
      ]
     },
     "metadata": {
      "needs_background": "light"
     },
     "output_type": "display_data"
    },
    {
     "data": {
      "image/png": "[encoded data removed]",
      "text/plain": [
       "<Figure size 432x288 with 1 Axes>"
      ]
     },
     "metadata": {
      "needs_background": "light"
     },
     "output_type": "display_data"
    },
    {
     "data": {
      "image/png": "[encoded data removed]",
      "text/plain": [
       "<Figure size 432x288 with 1 Axes>"
      ]
     },
     "metadata": {
      "needs_background": "light"
     },
     "output_type": "display_data"
    },
    {
     "data": {
      "image/png": "[encoded data removed]",
      "text/plain": [
       "<Figure size 432x288 with 1 Axes>"
      ]
     },
     "metadata": {
      "needs_background": "light"
     },
     "output_type": "display_data"
    },
    {
     "data": {
      "image/png": "[encoded data removed]",
      "text/plain": [
       "<Figure size 432x288 with 1 Axes>"
      ]
     },
     "metadata": {
      "needs_background": "light"
     },
     "output_type": "display_data"
    },
    {
     "data": {
      "image/png": "[encoded data removed]",
      "text/plain": [
       "<Figure size 432x288 with 1 Axes>"
      ]
     },
     "metadata": {
      "needs_background": "light"
     },
     "output_type": "display_data"
    },
    {
     "data": {
      "image/png": "[encoded data removed]",
      "text/plain": [
       "<Figure size 432x288 with 1 Axes>"
      ]
     },
     "metadata": {
      "needs_background": "light"
     },
     "output_type": "display_data"
    }
   ],
   "source": [
    "# Check Outliers after treatment\n",
    "for feature in cont_col:\n",
    "    sn.boxplot(pre_processed_data[feature])\n",
    "    plt.show()"
   ]
  },
  {
   "cell_type": "markdown",
   "id": "79ae56b8",
   "metadata": {},
   "source": [
    "###  03.3.Handling the Skewness"
   ]
  },
  {
   "cell_type": "code",
   "execution_count": 93,
   "id": "faa68c19",
   "metadata": {},
   "outputs": [
    {
     "data": {
      "image/png": "[encoded data removed]",
      "text/plain": [
       "<Figure size 432x288 with 1 Axes>"
      ]
     },
     "metadata": {
      "needs_background": "light"
     },
     "output_type": "display_data"
    },
    {
     "name": "stdout",
     "output_type": "stream",
     "text": [
      "1.019901539232258\n"
     ]
    },
    {
     "data": {
      "image/png": "[encoded data removed]",
      "text/plain": [
       "<Figure size 432x288 with 1 Axes>"
      ]
     },
     "metadata": {
      "needs_background": "light"
     },
     "output_type": "display_data"
    },
    {
     "name": "stdout",
     "output_type": "stream",
     "text": [
      "0.48564138873417195\n"
     ]
    },
    {
     "data": {
      "image/png": "[encoded data removed]",
      "text/plain": [
       "<Figure size 432x288 with 1 Axes>"
      ]
     },
     "metadata": {
      "needs_background": "light"
     },
     "output_type": "display_data"
    },
    {
     "name": "stdout",
     "output_type": "stream",
     "text": [
      "-0.296602871706182\n"
     ]
    },
    {
     "data": {
      "image/png": "[encoded data removed]",
      "text/plain": [
       "<Figure size 432x288 with 1 Axes>"
      ]
     },
     "metadata": {
      "needs_background": "light"
     },
     "output_type": "display_data"
    },
    {
     "name": "stdout",
     "output_type": "stream",
     "text": [
      "-0.5265992523920188\n"
     ]
    },
    {
     "data": {
      "image/png": "[encoded data removed]",
      "text/plain": [
       "<Figure size 432x288 with 1 Axes>"
      ]
     },
     "metadata": {
      "needs_background": "light"
     },
     "output_type": "display_data"
    },
    {
     "name": "stdout",
     "output_type": "stream",
     "text": [
      "0.14227568958169276\n"
     ]
    },
    {
     "data": {
      "image/png": "[encoded data removed]",
      "text/plain": [
       "<Figure size 432x288 with 1 Axes>"
      ]
     },
     "metadata": {
      "needs_background": "light"
     },
     "output_type": "display_data"
    },
    {
     "name": "stdout",
     "output_type": "stream",
     "text": [
      "-0.5851481464661404\n"
     ]
    },
    {
     "data": {
      "image/png": "[encoded data removed]",
      "text/plain": [
       "<Figure size 432x288 with 1 Axes>"
      ]
     },
     "metadata": {
      "needs_background": "light"
     },
     "output_type": "display_data"
    },
    {
     "name": "stdout",
     "output_type": "stream",
     "text": [
      "-0.5711424933877101\n"
     ]
    },
    {
     "data": {
      "image/png": "[encoded data removed]",
      "text/plain": [
       "<Figure size 432x288 with 1 Axes>"
      ]
     },
     "metadata": {
      "needs_background": "light"
     },
     "output_type": "display_data"
    },
    {
     "name": "stdout",
     "output_type": "stream",
     "text": [
      "1.19045735742447\n"
     ]
    },
    {
     "data": {
      "image/png": "[encoded data removed]",
      "text/plain": [
       "<Figure size 432x288 with 1 Axes>"
      ]
     },
     "metadata": {
      "needs_background": "light"
     },
     "output_type": "display_data"
    },
    {
     "name": "stdout",
     "output_type": "stream",
     "text": [
      "1.1701115584319361\n"
     ]
    },
    {
     "data": {
      "image/png": "[encoded data removed]",
      "text/plain": [
       "<Figure size 432x288 with 1 Axes>"
      ]
     },
     "metadata": {
      "needs_background": "light"
     },
     "output_type": "display_data"
    },
    {
     "name": "stdout",
     "output_type": "stream",
     "text": [
      "1.1691180889263508\n"
     ]
    },
    {
     "data": {
      "image/png": "[encoded data removed]",
      "text/plain": [
       "<Figure size 432x288 with 1 Axes>"
      ]
     },
     "metadata": {
      "needs_background": "light"
     },
     "output_type": "display_data"
    },
    {
     "name": "stdout",
     "output_type": "stream",
     "text": [
      "1.102455103682878\n"
     ]
    },
    {
     "data": {
      "image/png": "[encoded data removed]",
      "text/plain": [
       "<Figure size 432x288 with 1 Axes>"
      ]
     },
     "metadata": {
      "needs_background": "light"
     },
     "output_type": "display_data"
    },
    {
     "name": "stdout",
     "output_type": "stream",
     "text": [
      "0.11888626936895114\n"
     ]
    },
    {
     "data": {
      "image/png": "[encoded data removed]",
      "text/plain": [
       "<Figure size 432x288 with 1 Axes>"
      ]
     },
     "metadata": {
      "needs_background": "light"
     },
     "output_type": "display_data"
    },
    {
     "name": "stdout",
     "output_type": "stream",
     "text": [
      "0.39030977338693984\n"
     ]
    },
    {
     "data": {
      "image/png": "[encoded data removed]",
      "text/plain": [
       "<Figure size 432x288 with 1 Axes>"
      ]
     },
     "metadata": {
      "needs_background": "light"
     },
     "output_type": "display_data"
    },
    {
     "name": "stdout",
     "output_type": "stream",
     "text": [
      "0.4894385081277953\n"
     ]
    },
    {
     "data": {
      "image/png": "[encoded data removed]",
      "text/plain": [
       "<Figure size 432x288 with 1 Axes>"
      ]
     },
     "metadata": {
      "needs_background": "light"
     },
     "output_type": "display_data"
    },
    {
     "name": "stdout",
     "output_type": "stream",
     "text": [
      "0\n"
     ]
    },
    {
     "data": {
      "image/png": "[encoded data removed]",
      "text/plain": [
       "<Figure size 432x288 with 1 Axes>"
      ]
     },
     "metadata": {
      "needs_background": "light"
     },
     "output_type": "display_data"
    },
    {
     "name": "stdout",
     "output_type": "stream",
     "text": [
      "-0.5447745477573673\n"
     ]
    },
    {
     "data": {
      "image/png": "[encoded data removed]",
      "text/plain": [
       "<Figure size 432x288 with 1 Axes>"
      ]
     },
     "metadata": {
      "needs_background": "light"
     },
     "output_type": "display_data"
    },
    {
     "name": "stdout",
     "output_type": "stream",
     "text": [
      "-0.4583770485663374\n"
     ]
    }
   ],
   "source": [
    "# Check the skewness for continues variables\n",
    "for feature in cont_col:\n",
    "    sn.kdeplot(pre_processed_data[feature])\n",
    "    plt.show()\n",
    "    print(pre_processed_data[feature].skew())"
   ]
  },
  {
   "cell_type": "markdown",
   "id": "80012ca0",
   "metadata": {},
   "source": [
    "As per the outputs,following variables have considerable  skewness:  <br>\n",
    "  -speechiness<br>\n",
    "  -acousticness <br>\n",
    "  -liveness <br>\n",
    "  -instrumentalness"
   ]
  },
  {
   "cell_type": "code",
   "execution_count": 94,
   "id": "87096a3b",
   "metadata": {},
   "outputs": [
    {
     "data": {
      "image/png": "[encoded data removed]",
      "text/plain": [
       "<Figure size 432x288 with 1 Axes>"
      ]
     },
     "metadata": {
      "needs_background": "light"
     },
     "output_type": "display_data"
    }
   ],
   "source": [
    "pre_processed_data.speechiness =pre_processed_data.speechiness.apply(lambda x:  np.sqrt(x))\n",
    "sn.kdeplot(pre_processed_data.speechiness);"
   ]
  },
  {
   "cell_type": "code",
   "execution_count": 95,
   "id": "b854085b",
   "metadata": {},
   "outputs": [
    {
     "data": {
      "text/plain": [
       "0.8990333147876872"
      ]
     },
     "execution_count": 95,
     "metadata": {},
     "output_type": "execute_result"
    }
   ],
   "source": [
    "pre_processed_data.speechiness.skew()"
   ]
  },
  {
   "cell_type": "code",
   "execution_count": 96,
   "id": "236e47ec",
   "metadata": {},
   "outputs": [
    {
     "data": {
      "image/png": "[encoded data removed]",
      "text/plain": [
       "<Figure size 432x288 with 1 Axes>"
      ]
     },
     "metadata": {
      "needs_background": "light"
     },
     "output_type": "display_data"
    }
   ],
   "source": [
    "pre_processed_data.acousticness =pre_processed_data.acousticness.apply(lambda x: np.sqrt(x))\n",
    "sn.kdeplot(pre_processed_data.acousticness);"
   ]
  },
  {
   "cell_type": "code",
   "execution_count": 97,
   "id": "1ab3efa1",
   "metadata": {},
   "outputs": [
    {
     "data": {
      "text/plain": [
       "0.5428976768500033"
      ]
     },
     "execution_count": 97,
     "metadata": {},
     "output_type": "execute_result"
    }
   ],
   "source": [
    "pre_processed_data.acousticness.skew()"
   ]
  },
  {
   "cell_type": "code",
   "execution_count": 98,
   "id": "0b0b0a93",
   "metadata": {},
   "outputs": [
    {
     "data": {
      "image/png": "[encoded data removed]",
      "text/plain": [
       "<Figure size 432x288 with 1 Axes>"
      ]
     },
     "metadata": {
      "needs_background": "light"
     },
     "output_type": "display_data"
    }
   ],
   "source": [
    "pre_processed_data.liveness =pre_processed_data.liveness.apply(lambda x: np.sqrt(x))\n",
    "sn.kdeplot(pre_processed_data.liveness);"
   ]
  },
  {
   "cell_type": "code",
   "execution_count": 99,
   "id": "824c52f0",
   "metadata": {},
   "outputs": [
    {
     "data": {
      "text/plain": [
       "0.6851578387787302"
      ]
     },
     "execution_count": 99,
     "metadata": {},
     "output_type": "execute_result"
    }
   ],
   "source": [
    "pre_processed_data.liveness.skew()"
   ]
  },
  {
   "cell_type": "code",
   "execution_count": 100,
   "id": "0879f6c1",
   "metadata": {},
   "outputs": [
    {
     "data": {
      "image/png": "[encoded data removed]",
      "text/plain": [
       "<Figure size 432x288 with 1 Axes>"
      ]
     },
     "metadata": {
      "needs_background": "light"
     },
     "output_type": "display_data"
    }
   ],
   "source": [
    "pre_processed_data.instrumentalness =pre_processed_data.instrumentalness.apply(lambda x: np.sqrt(x))\n",
    "sn.kdeplot(pre_processed_data.instrumentalness);"
   ]
  },
  {
   "cell_type": "code",
   "execution_count": 101,
   "id": "98aa78e5",
   "metadata": {},
   "outputs": [
    {
     "data": {
      "text/plain": [
       "0.9163644105499773"
      ]
     },
     "execution_count": 101,
     "metadata": {},
     "output_type": "execute_result"
    }
   ],
   "source": [
    "pre_processed_data.instrumentalness.skew()"
   ]
  },
  {
   "cell_type": "markdown",
   "id": "0a7372e5",
   "metadata": {},
   "source": [
    "### 03.4.Multicolinearity of features "
   ]
  },
  {
   "cell_type": "code",
   "execution_count": 102,
   "id": "3f985792",
   "metadata": {},
   "outputs": [
    {
     "data": {
      "text/html": [
       "<div>\n",
       "<style scoped>\n",
       "    .dataframe tbody tr th:only-of-type {\n",
       "        vertical-align: middle;\n",
       "    }\n",
       "\n",
       "    .dataframe tbody tr th {\n",
       "        vertical-align: top;\n",
       "    }\n",
       "\n",
       "    .dataframe thead th {\n",
       "        text-align: right;\n",
       "    }\n",
       "</style>\n",
       "<table border=\"1\" class=\"dataframe\">\n",
       "  <thead>\n",
       "    <tr style=\"text-align: right;\">\n",
       "      <th></th>\n",
       "      <th>variables</th>\n",
       "      <th>VIF</th>\n",
       "    </tr>\n",
       "  </thead>\n",
       "  <tbody>\n",
       "    <tr>\n",
       "      <th>0</th>\n",
       "      <td>pos</td>\n",
       "      <td>2.210057</td>\n",
       "    </tr>\n",
       "    <tr>\n",
       "      <th>1</th>\n",
       "      <td>duration_ms_x</td>\n",
       "      <td>5670.862606</td>\n",
       "    </tr>\n",
       "    <tr>\n",
       "      <th>2</th>\n",
       "      <td>danceability</td>\n",
       "      <td>25.244121</td>\n",
       "    </tr>\n",
       "    <tr>\n",
       "      <th>3</th>\n",
       "      <td>energy</td>\n",
       "      <td>37.699703</td>\n",
       "    </tr>\n",
       "    <tr>\n",
       "      <th>4</th>\n",
       "      <td>key</td>\n",
       "      <td>2.931268</td>\n",
       "    </tr>\n",
       "    <tr>\n",
       "      <th>5</th>\n",
       "      <td>loudness</td>\n",
       "      <td>13.070542</td>\n",
       "    </tr>\n",
       "    <tr>\n",
       "      <th>6</th>\n",
       "      <td>mode</td>\n",
       "      <td>2.894302</td>\n",
       "    </tr>\n",
       "    <tr>\n",
       "      <th>7</th>\n",
       "      <td>speechiness</td>\n",
       "      <td>2.318173</td>\n",
       "    </tr>\n",
       "    <tr>\n",
       "      <th>8</th>\n",
       "      <td>acousticness</td>\n",
       "      <td>2.421216</td>\n",
       "    </tr>\n",
       "    <tr>\n",
       "      <th>9</th>\n",
       "      <td>instrumentalness</td>\n",
       "      <td>1.146412</td>\n",
       "    </tr>\n",
       "    <tr>\n",
       "      <th>10</th>\n",
       "      <td>liveness</td>\n",
       "      <td>2.916543</td>\n",
       "    </tr>\n",
       "    <tr>\n",
       "      <th>11</th>\n",
       "      <td>valence</td>\n",
       "      <td>8.850953</td>\n",
       "    </tr>\n",
       "    <tr>\n",
       "      <th>12</th>\n",
       "      <td>tempo</td>\n",
       "      <td>20.413889</td>\n",
       "    </tr>\n",
       "    <tr>\n",
       "      <th>13</th>\n",
       "      <td>duration_ms_y</td>\n",
       "      <td>5707.307842</td>\n",
       "    </tr>\n",
       "    <tr>\n",
       "      <th>14</th>\n",
       "      <td>time_signature</td>\n",
       "      <td>108.240598</td>\n",
       "    </tr>\n",
       "    <tr>\n",
       "      <th>15</th>\n",
       "      <td>artist_pop</td>\n",
       "      <td>41.831347</td>\n",
       "    </tr>\n",
       "    <tr>\n",
       "      <th>16</th>\n",
       "      <td>track_pop</td>\n",
       "      <td>3.104442</td>\n",
       "    </tr>\n",
       "  </tbody>\n",
       "</table>\n",
       "</div>"
      ],
      "text/plain": [
       "           variables          VIF\n",
       "0                pos     2.210057\n",
       "1      duration_ms_x  5670.862606\n",
       "2       danceability    25.244121\n",
       "3             energy    37.699703\n",
       "4                key     2.931268\n",
       "5           loudness    13.070542\n",
       "6               mode     2.894302\n",
       "7        speechiness     2.318173\n",
       "8       acousticness     2.421216\n",
       "9   instrumentalness     1.146412\n",
       "10          liveness     2.916543\n",
       "11           valence     8.850953\n",
       "12             tempo    20.413889\n",
       "13     duration_ms_y  5707.307842\n",
       "14    time_signature   108.240598\n",
       "15        artist_pop    41.831347\n",
       "16         track_pop     3.104442"
      ]
     },
     "execution_count": 102,
     "metadata": {},
     "output_type": "execute_result"
    }
   ],
   "source": [
    "vif = pd.DataFrame()\n",
    "vif[\"variables\"] = cont_col.columns\n",
    "vif[\"VIF\"] = [variance_inflation_factor(cont_col.values, i) for i in range(cont_col.shape[1])]\n",
    "vif"
   ]
  },
  {
   "cell_type": "markdown",
   "id": "93532dc1",
   "metadata": {},
   "source": [
    "As per the results,following varables have highest variance inflation factor:<br>\n",
    " -duration_ms_x\t<br>\n",
    " -danceability <br>\n",
    " -energy\t<br>\n",
    " -loudness\t <br>\n",
    " -tempo <br>\n",
    " -duration_ms_y <br>\n",
    " -time_signature <br>\n",
    " -artist_pop\t\n",
    " So,this varables should be removed before model development."
   ]
  },
  {
   "cell_type": "code",
   "execution_count": 103,
   "id": "4288ada0",
   "metadata": {},
   "outputs": [],
   "source": [
    "pre_processed_data=pre_processed_data[['pid', 'name', 'modified_at', 'num_artists',\n",
    "       'num_albums', 'num_tracks', 'num_followers', 'num_edits',\n",
    "       'playlist_duration_ms', 'collaborative', 'pos', 'artist_name','artist_uri', 'track_name', 'album_uri',\n",
    "       'album_name', 'key', 'mode',\n",
    "       'speechiness', 'acousticness', 'instrumentalness', 'liveness',\n",
    "       'valence', 'type', 'id', 'track_href', 'analysis_url', 'genres_list', 'track_pop']]"
   ]
  },
  {
   "cell_type": "code",
   "execution_count": 104,
   "id": "2f127629",
   "metadata": {},
   "outputs": [
    {
     "data": {
      "text/html": [
       "<div>\n",
       "<style scoped>\n",
       "    .dataframe tbody tr th:only-of-type {\n",
       "        vertical-align: middle;\n",
       "    }\n",
       "\n",
       "    .dataframe tbody tr th {\n",
       "        vertical-align: top;\n",
       "    }\n",
       "\n",
       "    .dataframe thead th {\n",
       "        text-align: right;\n",
       "    }\n",
       "</style>\n",
       "<table border=\"1\" class=\"dataframe\">\n",
       "  <thead>\n",
       "    <tr style=\"text-align: right;\">\n",
       "      <th></th>\n",
       "      <th>pid</th>\n",
       "      <th>name</th>\n",
       "      <th>modified_at</th>\n",
       "      <th>num_artists</th>\n",
       "      <th>num_albums</th>\n",
       "      <th>num_tracks</th>\n",
       "      <th>num_followers</th>\n",
       "      <th>num_edits</th>\n",
       "      <th>playlist_duration_ms</th>\n",
       "      <th>collaborative</th>\n",
       "      <th>...</th>\n",
       "      <th>acousticness</th>\n",
       "      <th>instrumentalness</th>\n",
       "      <th>liveness</th>\n",
       "      <th>valence</th>\n",
       "      <th>type</th>\n",
       "      <th>id</th>\n",
       "      <th>track_href</th>\n",
       "      <th>analysis_url</th>\n",
       "      <th>genres_list</th>\n",
       "      <th>track_pop</th>\n",
       "    </tr>\n",
       "  </thead>\n",
       "  <tbody>\n",
       "    <tr>\n",
       "      <th>0</th>\n",
       "      <td>0</td>\n",
       "      <td>Throwbacks</td>\n",
       "      <td>1493424000</td>\n",
       "      <td>37</td>\n",
       "      <td>47</td>\n",
       "      <td>52</td>\n",
       "      <td>1</td>\n",
       "      <td>6</td>\n",
       "      <td>11532414</td>\n",
       "      <td>false</td>\n",
       "      <td>...</td>\n",
       "      <td>0.176352</td>\n",
       "      <td>0.020797</td>\n",
       "      <td>0.217025</td>\n",
       "      <td>0.81</td>\n",
       "      <td>audio_features</td>\n",
       "      <td>0UaMYEvWZi0ZqiDOoHU3YI</td>\n",
       "      <td>https://api.spotify.com/v1/tracks/0UaMYEvWZi0Z...</td>\n",
       "      <td>https://api.spotify.com/v1/audio-analysis/0UaM...</td>\n",
       "      <td>[dance_pop, hip_hop, hip_pop, pop_rap, r&amp;b, ra...</td>\n",
       "      <td>67</td>\n",
       "    </tr>\n",
       "    <tr>\n",
       "      <th>1</th>\n",
       "      <td>0</td>\n",
       "      <td>Throwbacks</td>\n",
       "      <td>1493424000</td>\n",
       "      <td>37</td>\n",
       "      <td>47</td>\n",
       "      <td>52</td>\n",
       "      <td>1</td>\n",
       "      <td>6</td>\n",
       "      <td>11532414</td>\n",
       "      <td>false</td>\n",
       "      <td>...</td>\n",
       "      <td>0.176352</td>\n",
       "      <td>0.020797</td>\n",
       "      <td>0.217025</td>\n",
       "      <td>0.81</td>\n",
       "      <td>audio_features</td>\n",
       "      <td>0UaMYEvWZi0ZqiDOoHU3YI</td>\n",
       "      <td>https://api.spotify.com/v1/tracks/0UaMYEvWZi0Z...</td>\n",
       "      <td>https://api.spotify.com/v1/audio-analysis/0UaM...</td>\n",
       "      <td>[dance_pop, hip_hop, hip_pop, pop_rap, r&amp;b, ra...</td>\n",
       "      <td>67</td>\n",
       "    </tr>\n",
       "    <tr>\n",
       "      <th>2</th>\n",
       "      <td>123</td>\n",
       "      <td>w o r k o u t</td>\n",
       "      <td>1500681600</td>\n",
       "      <td>171</td>\n",
       "      <td>225</td>\n",
       "      <td>245</td>\n",
       "      <td>1</td>\n",
       "      <td>26</td>\n",
       "      <td>55676545</td>\n",
       "      <td>false</td>\n",
       "      <td>...</td>\n",
       "      <td>0.176352</td>\n",
       "      <td>0.020797</td>\n",
       "      <td>0.217025</td>\n",
       "      <td>0.81</td>\n",
       "      <td>audio_features</td>\n",
       "      <td>0UaMYEvWZi0ZqiDOoHU3YI</td>\n",
       "      <td>https://api.spotify.com/v1/tracks/0UaMYEvWZi0Z...</td>\n",
       "      <td>https://api.spotify.com/v1/audio-analysis/0UaM...</td>\n",
       "      <td>[dance_pop, hip_hop, hip_pop, pop_rap, r&amp;b, ra...</td>\n",
       "      <td>67</td>\n",
       "    </tr>\n",
       "    <tr>\n",
       "      <th>3</th>\n",
       "      <td>123</td>\n",
       "      <td>w o r k o u t</td>\n",
       "      <td>1500681600</td>\n",
       "      <td>171</td>\n",
       "      <td>225</td>\n",
       "      <td>245</td>\n",
       "      <td>1</td>\n",
       "      <td>26</td>\n",
       "      <td>55676545</td>\n",
       "      <td>false</td>\n",
       "      <td>...</td>\n",
       "      <td>0.176352</td>\n",
       "      <td>0.020797</td>\n",
       "      <td>0.217025</td>\n",
       "      <td>0.81</td>\n",
       "      <td>audio_features</td>\n",
       "      <td>0UaMYEvWZi0ZqiDOoHU3YI</td>\n",
       "      <td>https://api.spotify.com/v1/tracks/0UaMYEvWZi0Z...</td>\n",
       "      <td>https://api.spotify.com/v1/audio-analysis/0UaM...</td>\n",
       "      <td>[dance_pop, hip_hop, hip_pop, pop_rap, r&amp;b, ra...</td>\n",
       "      <td>67</td>\n",
       "    </tr>\n",
       "    <tr>\n",
       "      <th>4</th>\n",
       "      <td>218</td>\n",
       "      <td>party playlist</td>\n",
       "      <td>1504310400</td>\n",
       "      <td>74</td>\n",
       "      <td>93</td>\n",
       "      <td>98</td>\n",
       "      <td>1</td>\n",
       "      <td>4</td>\n",
       "      <td>21299385</td>\n",
       "      <td>false</td>\n",
       "      <td>...</td>\n",
       "      <td>0.176352</td>\n",
       "      <td>0.020797</td>\n",
       "      <td>0.217025</td>\n",
       "      <td>0.81</td>\n",
       "      <td>audio_features</td>\n",
       "      <td>0UaMYEvWZi0ZqiDOoHU3YI</td>\n",
       "      <td>https://api.spotify.com/v1/tracks/0UaMYEvWZi0Z...</td>\n",
       "      <td>https://api.spotify.com/v1/audio-analysis/0UaM...</td>\n",
       "      <td>[dance_pop, hip_hop, hip_pop, pop_rap, r&amp;b, ra...</td>\n",
       "      <td>67</td>\n",
       "    </tr>\n",
       "  </tbody>\n",
       "</table>\n",
       "<p>5 rows × 29 columns</p>\n",
       "</div>"
      ],
      "text/plain": [
       "   pid            name modified_at num_artists num_albums num_tracks  \\\n",
       "0    0      Throwbacks  1493424000          37         47         52   \n",
       "1    0      Throwbacks  1493424000          37         47         52   \n",
       "2  123   w o r k o u t  1500681600         171        225        245   \n",
       "3  123   w o r k o u t  1500681600         171        225        245   \n",
       "4  218  party playlist  1504310400          74         93         98   \n",
       "\n",
       "  num_followers num_edits playlist_duration_ms collaborative  ...  \\\n",
       "0             1         6             11532414         false  ...   \n",
       "1             1         6             11532414         false  ...   \n",
       "2             1        26             55676545         false  ...   \n",
       "3             1        26             55676545         false  ...   \n",
       "4             1         4             21299385         false  ...   \n",
       "\n",
       "   acousticness instrumentalness  liveness valence            type  \\\n",
       "0      0.176352         0.020797  0.217025    0.81  audio_features   \n",
       "1      0.176352         0.020797  0.217025    0.81  audio_features   \n",
       "2      0.176352         0.020797  0.217025    0.81  audio_features   \n",
       "3      0.176352         0.020797  0.217025    0.81  audio_features   \n",
       "4      0.176352         0.020797  0.217025    0.81  audio_features   \n",
       "\n",
       "                       id                                         track_href  \\\n",
       "0  0UaMYEvWZi0ZqiDOoHU3YI  https://api.spotify.com/v1/tracks/0UaMYEvWZi0Z...   \n",
       "1  0UaMYEvWZi0ZqiDOoHU3YI  https://api.spotify.com/v1/tracks/0UaMYEvWZi0Z...   \n",
       "2  0UaMYEvWZi0ZqiDOoHU3YI  https://api.spotify.com/v1/tracks/0UaMYEvWZi0Z...   \n",
       "3  0UaMYEvWZi0ZqiDOoHU3YI  https://api.spotify.com/v1/tracks/0UaMYEvWZi0Z...   \n",
       "4  0UaMYEvWZi0ZqiDOoHU3YI  https://api.spotify.com/v1/tracks/0UaMYEvWZi0Z...   \n",
       "\n",
       "                                        analysis_url  \\\n",
       "0  https://api.spotify.com/v1/audio-analysis/0UaM...   \n",
       "1  https://api.spotify.com/v1/audio-analysis/0UaM...   \n",
       "2  https://api.spotify.com/v1/audio-analysis/0UaM...   \n",
       "3  https://api.spotify.com/v1/audio-analysis/0UaM...   \n",
       "4  https://api.spotify.com/v1/audio-analysis/0UaM...   \n",
       "\n",
       "                                         genres_list  track_pop  \n",
       "0  [dance_pop, hip_hop, hip_pop, pop_rap, r&b, ra...         67  \n",
       "1  [dance_pop, hip_hop, hip_pop, pop_rap, r&b, ra...         67  \n",
       "2  [dance_pop, hip_hop, hip_pop, pop_rap, r&b, ra...         67  \n",
       "3  [dance_pop, hip_hop, hip_pop, pop_rap, r&b, ra...         67  \n",
       "4  [dance_pop, hip_hop, hip_pop, pop_rap, r&b, ra...         67  \n",
       "\n",
       "[5 rows x 29 columns]"
      ]
     },
     "execution_count": 104,
     "metadata": {},
     "output_type": "execute_result"
    }
   ],
   "source": [
    "pre_processed_data.head()"
   ]
  },
  {
   "cell_type": "markdown",
   "id": "de35b113",
   "metadata": {},
   "source": [
    "### 03.5.TF-IDF Vectorization "
   ]
  },
  {
   "cell_type": "code",
   "execution_count": 105,
   "id": "69e304af",
   "metadata": {},
   "outputs": [],
   "source": [
    "# Tfidf for genre list column\n",
    "tfidf = TfidfVectorizer()\n",
    "tfidf_matrix =  tfidf.fit_transform(pre_processed_data['genres_list'].apply(lambda x: \" \".join(x)))\n",
    "genre_tfidf_data = pd.DataFrame(tfidf_matrix.toarray())\n",
    "genre_tfidf_data.columns = ['genre' + \"|\" + i for i in tfidf.get_feature_names()]\n",
    "# drop unknown genre\n",
    "genre_tfidf_data.drop(columns='genre|unknown') \n",
    "genre_tfidf_data.reset_index(drop = True, inplace=True)"
   ]
  },
  {
   "cell_type": "markdown",
   "id": "424a5329",
   "metadata": {},
   "source": [
    "### 03.6.Sentiment Analysis "
   ]
  },
  {
   "cell_type": "code",
   "execution_count": 106,
   "id": "f76eb22a",
   "metadata": {},
   "outputs": [],
   "source": [
    "# Build the function to analyse the subjectivity and polarity\n",
    "\n",
    "def subjectivity(text):\n",
    "  return TextBlob(text).sentiment.subjectivity\n",
    "\n",
    "def polarity(text):\n",
    "  return TextBlob(text).sentiment.polarity\n",
    "\n",
    "def sp_analysis(score, task=\"polarity\"):\n",
    "  if task == \"subjectivity\":\n",
    "    if score < 1/3:\n",
    "      return \"low\"\n",
    "    elif score > 1/3:\n",
    "      return \"high\"\n",
    "    else:\n",
    "      return \"medium\"\n",
    "  else:\n",
    "    if score < 0:\n",
    "      return 'Negative'\n",
    "    elif score == 0:\n",
    "      return 'Neutral'\n",
    "    else:\n",
    "      return 'Positive'\n",
    "\n",
    "def sentiment_analysis(df, text_col):\n",
    "  df['subjectivity'] = df[text_col].apply(subjectivity).apply(lambda x: sp_analysis(x,\"subjectivity\"))\n",
    "  df['polarity'] = df[text_col].apply(polarity).apply(sp_analysis)\n",
    "  return df"
   ]
  },
  {
   "cell_type": "code",
   "execution_count": 107,
   "id": "349cf80a",
   "metadata": {},
   "outputs": [],
   "source": [
    "# Sentiment analysis\n",
    "sentiment_data = sentiment_analysis(pre_processed_data, \"track_name\")"
   ]
  },
  {
   "cell_type": "markdown",
   "id": "c409358f",
   "metadata": {},
   "source": [
    "### 03.7.One-Hot Encoding "
   ]
  },
  {
   "cell_type": "code",
   "execution_count": 108,
   "id": "b2f887e1",
   "metadata": {},
   "outputs": [],
   "source": [
    "# Build the function for one-Hot encoding\n",
    "def ohe(df, column, new_name): \n",
    "    ohe_df = pd.get_dummies(df[column])\n",
    "    feature_names = ohe_df.columns\n",
    "    ohe_df.columns = [new_name + \"|\" + str(i) for i in feature_names]\n",
    "    ohe_df.reset_index(drop = True, inplace = True)    \n",
    "    return ohe_df"
   ]
  },
  {
   "cell_type": "code",
   "execution_count": 109,
   "id": "6bfd65af",
   "metadata": {},
   "outputs": [],
   "source": [
    "# One-hot Encoding for subjectivity column\n",
    "subject_ohe_data = ohe(sentiment_data, 'subjectivity','subject') \n",
    "# One-hot Encoding for polarity column\n",
    "polar_ohe_data = ohe(sentiment_data, 'polarity','polar') \n",
    "# One-hot Encoding for mode column\n",
    "mode_ohe_data = ohe(sentiment_data, 'mode','mode')"
   ]
  },
  {
   "cell_type": "markdown",
   "id": "11ce0b3f",
   "metadata": {},
   "source": [
    "### 03.8.Normalization "
   ]
  },
  {
   "cell_type": "code",
   "execution_count": 110,
   "id": "65c0d6ca",
   "metadata": {},
   "outputs": [],
   "source": [
    "# Scale track popularity colum\n",
    "at_pop = sentiment_data[[\"track_pop\"]].reset_index(drop = True)\n",
    "scaler = MinMaxScaler()\n",
    "pop_scaled_data = pd.DataFrame(scaler.fit_transform(at_pop), columns = at_pop.columns)\n",
    "# Scale audio columns\n",
    "float_cols = sentiment_data.dtypes[sentiment_data.dtypes == 'float64'].index.values\n",
    "floats = sentiment_data[float_cols].reset_index(drop = True)\n",
    "scaler = MinMaxScaler()\n",
    "floats_scaled_data = pd.DataFrame(scaler.fit_transform(floats), columns = floats.columns)"
   ]
  },
  {
   "cell_type": "markdown",
   "id": "70de4ef2",
   "metadata": {},
   "source": [
    "## 04.Final Features"
   ]
  },
  {
   "cell_type": "code",
   "execution_count": 125,
   "id": "7d7edbdf",
   "metadata": {},
   "outputs": [
    {
     "data": {
      "text/html": [
       "<div>\n",
       "<style scoped>\n",
       "    .dataframe tbody tr th:only-of-type {\n",
       "        vertical-align: middle;\n",
       "    }\n",
       "\n",
       "    .dataframe tbody tr th {\n",
       "        vertical-align: top;\n",
       "    }\n",
       "\n",
       "    .dataframe thead th {\n",
       "        text-align: right;\n",
       "    }\n",
       "</style>\n",
       "<table border=\"1\" class=\"dataframe\">\n",
       "  <thead>\n",
       "    <tr style=\"text-align: right;\">\n",
       "      <th></th>\n",
       "      <th>id</th>\n",
       "      <th>genre|_hip_hop</th>\n",
       "      <th>genre|a_cappella</th>\n",
       "      <th>genre|abstract_beats</th>\n",
       "      <th>genre|abstract_hip_hop</th>\n",
       "      <th>genre|acoustic_blues</th>\n",
       "      <th>genre|acoustic_pop</th>\n",
       "      <th>genre|acoustic_rock</th>\n",
       "      <th>genre|adult_standards</th>\n",
       "      <th>genre|aesthetic_rap</th>\n",
       "      <th>...</th>\n",
       "      <th>valence</th>\n",
       "      <th>track_pop</th>\n",
       "      <th>subject|high</th>\n",
       "      <th>subject|low</th>\n",
       "      <th>subject|medium</th>\n",
       "      <th>polar|Negative</th>\n",
       "      <th>polar|Neutral</th>\n",
       "      <th>polar|Positive</th>\n",
       "      <th>mode|0</th>\n",
       "      <th>mode|1</th>\n",
       "    </tr>\n",
       "  </thead>\n",
       "  <tbody>\n",
       "    <tr>\n",
       "      <th>0</th>\n",
       "      <td>0UaMYEvWZi0ZqiDOoHU3YI</td>\n",
       "      <td>0.0</td>\n",
       "      <td>0.0</td>\n",
       "      <td>0.0</td>\n",
       "      <td>0.0</td>\n",
       "      <td>0.0</td>\n",
       "      <td>0.0</td>\n",
       "      <td>0.0</td>\n",
       "      <td>0.0</td>\n",
       "      <td>0.0</td>\n",
       "      <td>...</td>\n",
       "      <td>0.824847</td>\n",
       "      <td>0.788235</td>\n",
       "      <td>0</td>\n",
       "      <td>1</td>\n",
       "      <td>0</td>\n",
       "      <td>0</td>\n",
       "      <td>1</td>\n",
       "      <td>0</td>\n",
       "      <td>1</td>\n",
       "      <td>0</td>\n",
       "    </tr>\n",
       "    <tr>\n",
       "      <th>1</th>\n",
       "      <td>0UaMYEvWZi0ZqiDOoHU3YI</td>\n",
       "      <td>0.0</td>\n",
       "      <td>0.0</td>\n",
       "      <td>0.0</td>\n",
       "      <td>0.0</td>\n",
       "      <td>0.0</td>\n",
       "      <td>0.0</td>\n",
       "      <td>0.0</td>\n",
       "      <td>0.0</td>\n",
       "      <td>0.0</td>\n",
       "      <td>...</td>\n",
       "      <td>0.824847</td>\n",
       "      <td>0.788235</td>\n",
       "      <td>0</td>\n",
       "      <td>1</td>\n",
       "      <td>0</td>\n",
       "      <td>0</td>\n",
       "      <td>1</td>\n",
       "      <td>0</td>\n",
       "      <td>1</td>\n",
       "      <td>0</td>\n",
       "    </tr>\n",
       "    <tr>\n",
       "      <th>2</th>\n",
       "      <td>0UaMYEvWZi0ZqiDOoHU3YI</td>\n",
       "      <td>0.0</td>\n",
       "      <td>0.0</td>\n",
       "      <td>0.0</td>\n",
       "      <td>0.0</td>\n",
       "      <td>0.0</td>\n",
       "      <td>0.0</td>\n",
       "      <td>0.0</td>\n",
       "      <td>0.0</td>\n",
       "      <td>0.0</td>\n",
       "      <td>...</td>\n",
       "      <td>0.824847</td>\n",
       "      <td>0.788235</td>\n",
       "      <td>0</td>\n",
       "      <td>1</td>\n",
       "      <td>0</td>\n",
       "      <td>0</td>\n",
       "      <td>1</td>\n",
       "      <td>0</td>\n",
       "      <td>1</td>\n",
       "      <td>0</td>\n",
       "    </tr>\n",
       "    <tr>\n",
       "      <th>3</th>\n",
       "      <td>0UaMYEvWZi0ZqiDOoHU3YI</td>\n",
       "      <td>0.0</td>\n",
       "      <td>0.0</td>\n",
       "      <td>0.0</td>\n",
       "      <td>0.0</td>\n",
       "      <td>0.0</td>\n",
       "      <td>0.0</td>\n",
       "      <td>0.0</td>\n",
       "      <td>0.0</td>\n",
       "      <td>0.0</td>\n",
       "      <td>...</td>\n",
       "      <td>0.824847</td>\n",
       "      <td>0.788235</td>\n",
       "      <td>0</td>\n",
       "      <td>1</td>\n",
       "      <td>0</td>\n",
       "      <td>0</td>\n",
       "      <td>1</td>\n",
       "      <td>0</td>\n",
       "      <td>1</td>\n",
       "      <td>0</td>\n",
       "    </tr>\n",
       "    <tr>\n",
       "      <th>4</th>\n",
       "      <td>0UaMYEvWZi0ZqiDOoHU3YI</td>\n",
       "      <td>0.0</td>\n",
       "      <td>0.0</td>\n",
       "      <td>0.0</td>\n",
       "      <td>0.0</td>\n",
       "      <td>0.0</td>\n",
       "      <td>0.0</td>\n",
       "      <td>0.0</td>\n",
       "      <td>0.0</td>\n",
       "      <td>0.0</td>\n",
       "      <td>...</td>\n",
       "      <td>0.824847</td>\n",
       "      <td>0.788235</td>\n",
       "      <td>0</td>\n",
       "      <td>1</td>\n",
       "      <td>0</td>\n",
       "      <td>0</td>\n",
       "      <td>1</td>\n",
       "      <td>0</td>\n",
       "      <td>1</td>\n",
       "      <td>0</td>\n",
       "    </tr>\n",
       "  </tbody>\n",
       "</table>\n",
       "<p>5 rows × 713 columns</p>\n",
       "</div>"
      ],
      "text/plain": [
       "                       id  genre|_hip_hop  genre|a_cappella  \\\n",
       "0  0UaMYEvWZi0ZqiDOoHU3YI             0.0               0.0   \n",
       "1  0UaMYEvWZi0ZqiDOoHU3YI             0.0               0.0   \n",
       "2  0UaMYEvWZi0ZqiDOoHU3YI             0.0               0.0   \n",
       "3  0UaMYEvWZi0ZqiDOoHU3YI             0.0               0.0   \n",
       "4  0UaMYEvWZi0ZqiDOoHU3YI             0.0               0.0   \n",
       "\n",
       "   genre|abstract_beats  genre|abstract_hip_hop  genre|acoustic_blues  \\\n",
       "0                   0.0                     0.0                   0.0   \n",
       "1                   0.0                     0.0                   0.0   \n",
       "2                   0.0                     0.0                   0.0   \n",
       "3                   0.0                     0.0                   0.0   \n",
       "4                   0.0                     0.0                   0.0   \n",
       "\n",
       "   genre|acoustic_pop  genre|acoustic_rock  genre|adult_standards  \\\n",
       "0                 0.0                  0.0                    0.0   \n",
       "1                 0.0                  0.0                    0.0   \n",
       "2                 0.0                  0.0                    0.0   \n",
       "3                 0.0                  0.0                    0.0   \n",
       "4                 0.0                  0.0                    0.0   \n",
       "\n",
       "   genre|aesthetic_rap  ...   valence  track_pop  subject|high  subject|low  \\\n",
       "0                  0.0  ...  0.824847   0.788235             0            1   \n",
       "1                  0.0  ...  0.824847   0.788235             0            1   \n",
       "2                  0.0  ...  0.824847   0.788235             0            1   \n",
       "3                  0.0  ...  0.824847   0.788235             0            1   \n",
       "4                  0.0  ...  0.824847   0.788235             0            1   \n",
       "\n",
       "   subject|medium  polar|Negative  polar|Neutral  polar|Positive  mode|0  \\\n",
       "0               0               0              1               0       1   \n",
       "1               0               0              1               0       1   \n",
       "2               0               0              1               0       1   \n",
       "3               0               0              1               0       1   \n",
       "4               0               0              1               0       1   \n",
       "\n",
       "   mode|1  \n",
       "0       0  \n",
       "1       0  \n",
       "2       0  \n",
       "3       0  \n",
       "4       0  \n",
       "\n",
       "[5 rows x 713 columns]"
      ]
     },
     "execution_count": 125,
     "metadata": {},
     "output_type": "execute_result"
    }
   ],
   "source": [
    "# Combine the all data frames\n",
    "final_features = pd.concat([pre_processed_data.id,genre_tfidf_data, floats_scaled_data, pop_scaled_data,\n",
    "                            subject_ohe_data, polar_ohe_data, mode_ohe_data], axis = 1)\n",
    "final_features.head()"
   ]
  },
  {
   "cell_type": "code",
   "execution_count": 126,
   "id": "6f04a8b3",
   "metadata": {},
   "outputs": [],
   "source": [
    "# Convert the final features data frame into csv file\n",
    "final_features.to_csv(\"final_features.csv\", index = False)"
   ]
  }
 ],
 "metadata": {
  "kernelspec": {
   "display_name": "Python 3 (ipykernel)",
   "language": "python",
   "name": "python3"
  },
  "language_info": {
   "codemirror_mode": {
    "name": "ipython",
    "version": 3
   },
   "file_extension": ".py",
   "mimetype": "text/x-python",
   "name": "python",
   "nbconvert_exporter": "python",
   "pygments_lexer": "ipython3",
   "version": "3.9.7"
  }
 },
 "nbformat": 4,
 "nbformat_minor": 5
}
